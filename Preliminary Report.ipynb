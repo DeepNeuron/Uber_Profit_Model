{
 "cells": [
  {
   "cell_type": "markdown",
   "metadata": {},
   "source": [
    "## Read in files for Exploratory Data Analysis"
   ]
  },
  {
   "cell_type": "code",
   "execution_count": 14,
   "metadata": {
    "collapsed": false
   },
   "outputs": [
    {
     "name": "stderr",
     "output_type": "stream",
     "text": [
      "/Users/Deep/anaconda/lib/python3.5/site-packages/IPython/core/interactiveshell.py:2902: DtypeWarning: Columns (2) have mixed types. Specify dtype option on import or set low_memory=False.\n",
      "  interactivity=interactivity, compiler=compiler, result=result)\n",
      "/Users/Deep/anaconda/lib/python3.5/site-packages/IPython/core/interactiveshell.py:2902: DtypeWarning: Columns (1) have mixed types. Specify dtype option on import or set low_memory=False.\n",
      "  interactivity=interactivity, compiler=compiler, result=result)\n"
     ]
    },
    {
     "name": "stdout",
     "output_type": "stream",
     "text": [
      "   ﻿OBJECTID State StationID Direction         DateTime1  \\\n",
      "0       3001    DC      1204         N  12/23/2014 10:00   \n",
      "1       3002    DC      1204         N  12/23/2014 11:00   \n",
      "2       3003    DC      1204         N  12/23/2014 12:00   \n",
      "3       3004    DC      1204         N  12/23/2014 13:00   \n",
      "4       3005    DC      1204         N  12/23/2014 14:00   \n",
      "\n",
      "                   DateTime  Volume      ABPair Sta_Dir  \n",
      "0  2014-12-23T15:00:00.000Z    2355  2006820191  1204_N  \n",
      "1  2014-12-23T16:00:00.000Z    2466  2006820191  1204_N  \n",
      "2  2014-12-23T17:00:00.000Z    2175  2006820191  1204_N  \n",
      "3  2014-12-23T18:00:00.000Z    2352  2006820191  1204_N  \n",
      "4  2014-12-23T19:00:00.000Z    2512  2006820191  1204_N  \n"
     ]
    }
   ],
   "source": [
    "import csv \n",
    "from os import listdir\n",
    "from os.path import isfile, join\n",
    "import numpy as np\n",
    "import matplotlib.pyplot as plt\n",
    "import re\n",
    "import glob\n",
    "import pandas as pd\n",
    "\n",
    "permfiles = glob.glob(\"DC_Traffic_Data/Permanent*\")\n",
    "shortfiles = glob.glob(\"DC_Traffic_Data/Short*\")\n",
    "trafficfiles = glob.glob(\"DC_Traffic_Data/Hourly*\")\n",
    "fil_dropoff_files = []\n",
    "dropoff_files = []\n",
    "pickup_files = []\n",
    "fil_pickup_files = []\n",
    "\n",
    "\n",
    "#Setup NP arrays\n",
    "fd_row = []\n",
    "df_row = []\n",
    "pf_row = []\n",
    "fp_row = []\n",
    "\n",
    "\n",
    "perm_traffic_data = []\n",
    "short_traffic_data = []\n",
    "hourly_traffic_data = []\n",
    "for filename in permfiles:\n",
    "    perm_traffic_data.append(pd.read_csv(filename))\n",
    "for filename in shortfiles:\n",
    "    short_traffic_data.append(pd.read_csv(filename))\n",
    "for filename in trafficfiles:\n",
    "    hourly_traffic_data.append(pd.read_csv(filename))\n",
    "print(hourly_traffic_data[3].head())\n",
    "\n",
    "#make table for 2011, 2012, 2013, and 2014\n",
    "\n"
   ]
  },
  {
   "cell_type": "markdown",
   "metadata": {
    "collapsed": true
   },
   "source": [
    "### 2011 Volume Hourly"
   ]
  },
  {
   "cell_type": "code",
   "execution_count": 9,
   "metadata": {
    "collapsed": false,
    "scrolled": true
   },
   "outputs": [
    {
     "name": "stdout",
     "output_type": "stream",
     "text": [
      "           ﻿OBJECTID_1    State  StationID Direction  \\\n",
      "count   1540261.000000  1540261    1540261   1540261   \n",
      "unique             NaN        3       1440         4   \n",
      "top                NaN       VA      70144         N   \n",
      "freq               NaN   921877      17518    530675   \n",
      "mean     770155.362131      NaN        NaN       NaN   \n",
      "std      444651.692515      NaN        NaN       NaN   \n",
      "min           1.000000      NaN        NaN       NaN   \n",
      "25%      385066.000000      NaN        NaN       NaN   \n",
      "50%      770171.000000      NaN        NaN       NaN   \n",
      "75%     1155236.000000      NaN        NaN       NaN   \n",
      "max     1540301.000000      NaN        NaN       NaN   \n",
      "\n",
      "                        DateTime         DateTime1          Volume  \\\n",
      "count                    1540261           1540261  1540261.000000   \n",
      "unique                      8759              8760             NaN   \n",
      "top     2011-07-13T15:00:00.000Z  07/13/2011 16:00             NaN   \n",
      "freq                         333               333             NaN   \n",
      "mean                         NaN               NaN     1328.071794   \n",
      "std                          NaN               NaN     1550.647273   \n",
      "min                          NaN               NaN        0.000000   \n",
      "25%                          NaN               NaN      226.000000   \n",
      "50%                          NaN               NaN      743.000000   \n",
      "75%                          NaN               NaN     1809.000000   \n",
      "max                          NaN               NaN     9105.000000   \n",
      "\n",
      "              ABPair  Sta_Dir  \n",
      "count   1.338685e+06  1540261  \n",
      "unique           NaN     2729  \n",
      "top              NaN  70144_N  \n",
      "freq             NaN     8759  \n",
      "mean    4.103308e+09      NaN  \n",
      "std     9.409133e+08      NaN  \n",
      "min     2.000320e+09      NaN  \n",
      "25%     3.465335e+09      NaN  \n",
      "50%     4.225842e+09      NaN  \n",
      "75%     5.000450e+09      NaN  \n",
      "max     5.451742e+09      NaN  \n"
     ]
    }
   ],
   "source": [
    "#mu_fd_row = sum of fd_pick-fd_drop/size (fd_pick U fd_drop)\n",
    "print(hourly_traffic_data[0].describe(include='all'))"
   ]
  },
  {
   "cell_type": "markdown",
   "metadata": {},
   "source": [
    "### 2012 Volume Hourly"
   ]
  },
  {
   "cell_type": "code",
   "execution_count": 10,
   "metadata": {
    "collapsed": false
   },
   "outputs": [
    {
     "name": "stdout",
     "output_type": "stream",
     "text": [
      "           OBJECTID_1        ABPair          Volume\n",
      "count  1098132.000000  1.076076e+06  1098132.000000\n",
      "mean    549068.691853  4.026664e+09     1218.511666\n",
      "std     317005.263355  9.857192e+08     1523.219734\n",
      "min          1.000000  2.001922e+09        0.000000\n",
      "25%     274533.750000  3.415534e+09      190.000000\n",
      "50%     549070.500000  4.225842e+09      657.000000\n",
      "75%     823603.250000  4.803048e+09     1584.000000\n",
      "max    1098136.000000  5.403854e+09    10839.000000\n"
     ]
    }
   ],
   "source": [
    "print(hourly_traffic_data[1].describe())"
   ]
  },
  {
   "cell_type": "markdown",
   "metadata": {},
   "source": [
    "### 2013 Volume Hourly"
   ]
  },
  {
   "cell_type": "code",
   "execution_count": 11,
   "metadata": {
    "collapsed": false
   },
   "outputs": [
    {
     "name": "stdout",
     "output_type": "stream",
     "text": [
      "            ﻿OBJECTID          Volume        ABPair\n",
      "count  1503888.000000  1503888.000000  1.503792e+06\n",
      "mean    751944.500000     1499.650407  4.093067e+09\n",
      "std     434135.215153     1693.212641  9.295224e+08\n",
      "min          1.000000        0.000000  2.000222e+09\n",
      "25%     375972.750000      292.000000  3.480938e+09\n",
      "50%     751944.500000      858.000000  4.095441e+09\n",
      "75%    1127916.250000     2079.000000  5.003750e+09\n",
      "max    1503888.000000    10101.000000  5.402854e+09\n"
     ]
    }
   ],
   "source": [
    "print(hourly_traffic_data[2].describe())"
   ]
  },
  {
   "cell_type": "markdown",
   "metadata": {},
   "source": [
    "### 2014 Volume Hourly"
   ]
  },
  {
   "cell_type": "code",
   "execution_count": 12,
   "metadata": {
    "collapsed": false
   },
   "outputs": [
    {
     "name": "stdout",
     "output_type": "stream",
     "text": [
      "             ﻿OBJECTID    State  StationID Direction         DateTime1  \\\n",
      "count   1778868.000000  1778868    1778868   1778868           1778868   \n",
      "unique             NaN        3        962         4              8760   \n",
      "top                NaN       VA      90065         N  05/14/2014 15:00   \n",
      "freq               NaN   980792      26277    603821               297   \n",
      "mean     889434.500000      NaN        NaN       NaN               NaN   \n",
      "std      513515.103664      NaN        NaN       NaN               NaN   \n",
      "min           1.000000      NaN        NaN       NaN               NaN   \n",
      "25%      444717.750000      NaN        NaN       NaN               NaN   \n",
      "50%      889434.500000      NaN        NaN       NaN               NaN   \n",
      "75%     1334151.250000      NaN        NaN       NaN               NaN   \n",
      "max     1778868.000000      NaN        NaN       NaN               NaN   \n",
      "\n",
      "                        DateTime          Volume        ABPair  Sta_Dir  \n",
      "count                    1778868  1778868.000000  1.769629e+06  1778868  \n",
      "unique                      8759             NaN           NaN     1823  \n",
      "top     2014-05-14T19:00:00.000Z             NaN           NaN  90065_N  \n",
      "freq                         297             NaN           NaN     8759  \n",
      "mean                         NaN     1417.516432  3.805832e+09      NaN  \n",
      "std                          NaN     1656.717998  1.099650e+09      NaN  \n",
      "min                          NaN        0.000000  2.000120e+09      NaN  \n",
      "25%                          NaN      269.000000  3.013531e+09      NaN  \n",
      "50%                          NaN      794.000000  3.840138e+09      NaN  \n",
      "75%                          NaN     1905.000000  4.713047e+09      NaN  \n",
      "max                          NaN    10835.000000  5.451742e+09      NaN  \n"
     ]
    }
   ],
   "source": [
    "print(hourly_traffic_data[3].describe(include='all'))"
   ]
  },
  {
   "cell_type": "markdown",
   "metadata": {
    "collapsed": true
   },
   "source": [
    "## Adding coordinates"
   ]
  },
  {
   "cell_type": "code",
   "execution_count": 20,
   "metadata": {
    "collapsed": false
   },
   "outputs": [
    {
     "name": "stdout",
     "output_type": "stream",
     "text": [
      "                ﻿X           Y    OBJECTID STATION   Sta_Dir  \\\n",
      "count   258.000000  258.000000  258.000000     258       258   \n",
      "unique         NaN         NaN         NaN     129       237   \n",
      "top            NaN         NaN         NaN   P0046  160005_S   \n",
      "freq           NaN         NaN         NaN       2         2   \n",
      "mean    -77.227170   38.873321  129.500000     NaN       NaN   \n",
      "std       0.349133    0.255989   74.622383     NaN       NaN   \n",
      "min     -78.056443   38.138738    1.000000     NaN       NaN   \n",
      "25%     -77.439172   38.797228   65.250000     NaN       NaN   \n",
      "50%     -77.150342   38.888998  129.500000     NaN       NaN   \n",
      "75%     -76.992615   38.955903  193.750000     NaN       NaN   \n",
      "max     -76.453031   39.489358  258.000000     NaN       NaN   \n",
      "\n",
      "                                      Description                COUNTY  \\\n",
      "count                                         258                   258   \n",
      "unique                                        129                    20   \n",
      "top     US 29 North of South Entrance Rd (ATR#29)  District of Columbia   \n",
      "freq                                            2                    66   \n",
      "mean                                          NaN                   NaN   \n",
      "std                                           NaN                   NaN   \n",
      "min                                           NaN                   NaN   \n",
      "25%                                           NaN                   NaN   \n",
      "50%                                           NaN                   NaN   \n",
      "75%                                           NaN                   NaN   \n",
      "max                                           NaN                   NaN   \n",
      "\n",
      "              ABPair IsPerm  NumHours2008  NumHours2009  NumHours2010  \\\n",
      "count   2.580000e+02    258    154.000000    115.000000    185.000000   \n",
      "unique           NaN      1           NaN           NaN           NaN   \n",
      "top              NaN      P           NaN           NaN           NaN   \n",
      "freq             NaN    258           NaN           NaN           NaN   \n",
      "mean    3.645478e+09    NaN   8241.493506   6971.200000   6783.545946   \n",
      "std     1.185453e+09    NaN   1164.008149   3100.723753   3075.662133   \n",
      "min     2.000120e+09    NaN   2808.000000     72.000000     48.000000   \n",
      "25%     2.273523e+09    NaN   8351.000000   7800.000000   5712.000000   \n",
      "50%     3.569386e+09    NaN   8640.000000   8544.000000   8495.000000   \n",
      "75%     4.584271e+09    NaN   8735.000000   8686.000000   8688.000000   \n",
      "max     5.402854e+09    NaN   8783.000000   8759.000000   8759.000000   \n",
      "\n",
      "        NumHours2011  NumHours2012  NumHours2013  NumHours2014  \n",
      "count     194.000000    150.000000    184.000000    208.000000  \n",
      "unique           NaN           NaN           NaN           NaN  \n",
      "top              NaN           NaN           NaN           NaN  \n",
      "freq             NaN           NaN           NaN           NaN  \n",
      "mean     7435.536082   7239.373333   7317.652174   7326.423077  \n",
      "std      2422.449324   2838.537509   2641.915394   2436.608200  \n",
      "min        48.000000     72.000000     48.000000     72.000000  \n",
      "25%      7991.000000   8309.750000   7776.000000   7415.750000  \n",
      "50%      8472.000000   8687.000000   8568.000000   8543.000000  \n",
      "75%      8664.000000   8759.750000   8664.000000   8688.000000  \n",
      "max      8759.000000   8783.000000   8736.000000   8759.000000  \n"
     ]
    }
   ],
   "source": [
    "print(perm_traffic_data[0].describe(include=\"all\"))"
   ]
  },
  {
   "cell_type": "code",
   "execution_count": 25,
   "metadata": {
    "collapsed": false
   },
   "outputs": [
    {
     "name": "stdout",
     "output_type": "stream",
     "text": [
      "          ﻿X          Y  OBJECTID STATION Sta_Dir_x  \\\n",
      "0 -77.035878  38.879252         1    1701    1701_S   \n",
      "1 -77.035878  38.879252         1    1701    1701_S   \n",
      "2 -77.035878  38.879252         1    1701    1701_S   \n",
      "3 -77.035878  38.879252         1    1701    1701_S   \n",
      "4 -77.035878  38.879252         1    1701    1701_S   \n",
      "\n",
      "                                         Description                COUNTY  \\\n",
      "0  ROCHAMBEAU BRG SW between INTERSTATE 395 VA an...  District of Columbia   \n",
      "1  ROCHAMBEAU BRG SW between INTERSTATE 395 VA an...  District of Columbia   \n",
      "2  ROCHAMBEAU BRG SW between INTERSTATE 395 VA an...  District of Columbia   \n",
      "3  ROCHAMBEAU BRG SW between INTERSTATE 395 VA an...  District of Columbia   \n",
      "4  ROCHAMBEAU BRG SW between INTERSTATE 395 VA an...  District of Columbia   \n",
      "\n",
      "     ABPair_x IsPerm  NumHours2008    ...     NumHours2014  ﻿OBJECTID  State  \\\n",
      "0  2139030364      P           NaN    ...             7316      59124     DC   \n",
      "1  2139030364      P           NaN    ...             7316      59125     DC   \n",
      "2  2139030364      P           NaN    ...             7316      59126     DC   \n",
      "3  2139030364      P           NaN    ...             7316      59127     DC   \n",
      "4  2139030364      P           NaN    ...             7316      59128     DC   \n",
      "\n",
      "   StationID  Direction         DateTime1                  DateTime Volume  \\\n",
      "0       1701          N  01/01/2014 00:00  2014-01-01T05:00:00.000Z   2427   \n",
      "1       1701          N  01/01/2014 01:00  2014-01-01T06:00:00.000Z   2215   \n",
      "2       1701          N  01/01/2014 02:00  2014-01-01T07:00:00.000Z   2376   \n",
      "3       1701          N  01/01/2014 03:00  2014-01-01T08:00:00.000Z   2211   \n",
      "4       1701          N  01/01/2014 04:00  2014-01-01T09:00:00.000Z   1484   \n",
      "\n",
      "     ABPair_y Sta_Dir_y  \n",
      "0  3036421390    1701_N  \n",
      "1  3036421390    1701_N  \n",
      "2  3036421390    1701_N  \n",
      "3  3036421390    1701_N  \n",
      "4  3036421390    1701_N  \n",
      "\n",
      "[5 rows x 25 columns]\n"
     ]
    }
   ],
   "source": [
    "## Merge them together with the station ID\n",
    "permanent_hourly_data = []\n",
    "permanent_hourly_data.append(perm_traffic_data[0].merge(hourly_traffic_data[3], left_on='STATION', right_on='StationID'))\n",
    "print(permanent_hourly_data[0].head())\n"
   ]
  },
  {
   "cell_type": "code",
   "execution_count": null,
   "metadata": {
    "collapsed": true
   },
   "outputs": [],
   "source": []
  }
 ],
 "metadata": {
  "anaconda-cloud": {},
  "kernelspec": {
   "display_name": "Python [default]",
   "language": "python",
   "name": "python3"
  },
  "language_info": {
   "codemirror_mode": {
    "name": "ipython",
    "version": 3
   },
   "file_extension": ".py",
   "mimetype": "text/x-python",
   "name": "python",
   "nbconvert_exporter": "python",
   "pygments_lexer": "ipython3",
   "version": "3.5.2"
  }
 },
 "nbformat": 4,
 "nbformat_minor": 0
}
