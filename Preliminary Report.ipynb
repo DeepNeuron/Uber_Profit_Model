{
 "cells": [
  {
   "cell_type": "markdown",
   "metadata": {},
   "source": [
    "## Read in files for Exploratory Data Analysis"
   ]
  },
  {
   "cell_type": "code",
   "execution_count": 74,
   "metadata": {
    "collapsed": false
   },
   "outputs": [
    {
     "name": "stderr",
     "output_type": "stream",
     "text": [
      "/Users/Deep/anaconda/lib/python3.5/site-packages/IPython/core/interactiveshell.py:2902: DtypeWarning: Columns (2) have mixed types. Specify dtype option on import or set low_memory=False.\n",
      "  interactivity=interactivity, compiler=compiler, result=result)\n",
      "/Users/Deep/anaconda/lib/python3.5/site-packages/IPython/core/interactiveshell.py:2902: DtypeWarning: Columns (1) have mixed types. Specify dtype option on import or set low_memory=False.\n",
      "  interactivity=interactivity, compiler=compiler, result=result)\n"
     ]
    },
    {
     "name": "stdout",
     "output_type": "stream",
     "text": [
      "   ﻿OBJECTID State StationID Direction         DateTime1  \\\n",
      "0       3001    DC      1204         N  12/23/2014 10:00   \n",
      "1       3002    DC      1204         N  12/23/2014 11:00   \n",
      "2       3003    DC      1204         N  12/23/2014 12:00   \n",
      "3       3004    DC      1204         N  12/23/2014 13:00   \n",
      "4       3005    DC      1204         N  12/23/2014 14:00   \n",
      "\n",
      "                   DateTime  Volume      ABPair Sta_Dir  \n",
      "0  2014-12-23T15:00:00.000Z    2355  2006820191  1204_N  \n",
      "1  2014-12-23T16:00:00.000Z    2466  2006820191  1204_N  \n",
      "2  2014-12-23T17:00:00.000Z    2175  2006820191  1204_N  \n",
      "3  2014-12-23T18:00:00.000Z    2352  2006820191  1204_N  \n",
      "4  2014-12-23T19:00:00.000Z    2512  2006820191  1204_N  \n"
     ]
    }
   ],
   "source": [
    "import csv \n",
    "from os import listdir\n",
    "from os.path import isfile, join\n",
    "import numpy as np\n",
    "import matplotlib.pyplot as plt\n",
    "import re\n",
    "import glob\n",
    "import pandas as pd\n",
    "import csv\n",
    "permfiles = glob.glob(\"DC_Traffic_Data/Permanent_Count*\")\n",
    "shortfiles = glob.glob(\"DC_Traffic_Data/Short*\")\n",
    "trafficfiles = glob.glob(\"DC_Traffic_Data/Hourly*\")\n",
    "fil_dropoff_files = []\n",
    "dropoff_files = []\n",
    "pickup_files = []\n",
    "fil_pickup_files = []\n",
    "\n",
    "\n",
    "#Setup NP arrays\n",
    "fd_row = []\n",
    "df_row = []\n",
    "pf_row = []\n",
    "fp_row = []\n",
    "\n",
    "\n",
    "perm_traffic_data = []\n",
    "short_traffic_data = []\n",
    "hourly_traffic_data = []\n",
    "for filename in permfiles:  \n",
    "    perm_traffic_data.append(pd.read_csv(filename))\n",
    "for filename in shortfiles:\n",
    "    short_traffic_data.append(pd.read_csv(filename))\n",
    "for filename in trafficfiles:\n",
    "    hourly_traffic_data.append(pd.read_csv(filename))\n",
    "print(hourly_traffic_data[3].head())\n",
    "\n",
    "#make table for 2011, 2012, 2013, and 2014\n",
    "\n",
    "\n",
    "        \n",
    "#Populate NumPy Arrays here\n"
   ]
  },
  {
   "cell_type": "markdown",
   "metadata": {
    "collapsed": true
   },
   "source": [
    "### 2011 Volume Hourly"
   ]
  },
  {
   "cell_type": "code",
   "execution_count": 73,
   "metadata": {
    "collapsed": false,
    "scrolled": true
   },
   "outputs": [
    {
     "name": "stdout",
     "output_type": "stream",
     "text": [
      "           ﻿OBJECTID_1    State  StationID Direction  \\\n",
      "count   1540261.000000  1540261    1540261   1540261   \n",
      "unique             NaN        3       1440         4   \n",
      "top                NaN       VA      70144         N   \n",
      "freq               NaN   921877      17518    530675   \n",
      "mean     770155.362131      NaN        NaN       NaN   \n",
      "std      444651.692515      NaN        NaN       NaN   \n",
      "min           1.000000      NaN        NaN       NaN   \n",
      "25%      385066.000000      NaN        NaN       NaN   \n",
      "50%      770171.000000      NaN        NaN       NaN   \n",
      "75%     1155236.000000      NaN        NaN       NaN   \n",
      "max     1540301.000000      NaN        NaN       NaN   \n",
      "\n",
      "                        DateTime         DateTime1          Volume  \\\n",
      "count                    1540261           1540261  1540261.000000   \n",
      "unique                      8759              8760             NaN   \n",
      "top     2011-07-13T18:00:00.000Z  07/13/2011 10:00             NaN   \n",
      "freq                         333               333             NaN   \n",
      "mean                         NaN               NaN     1328.071794   \n",
      "std                          NaN               NaN     1550.647273   \n",
      "min                          NaN               NaN        0.000000   \n",
      "25%                          NaN               NaN      226.000000   \n",
      "50%                          NaN               NaN      743.000000   \n",
      "75%                          NaN               NaN     1809.000000   \n",
      "max                          NaN               NaN     9105.000000   \n",
      "\n",
      "              ABPair  Sta_Dir  \n",
      "count   1.338685e+06  1540261  \n",
      "unique           NaN     2729  \n",
      "top              NaN  70144_S  \n",
      "freq             NaN     8759  \n",
      "mean    4.103308e+09      NaN  \n",
      "std     9.409133e+08      NaN  \n",
      "min     2.000320e+09      NaN  \n",
      "25%     3.465335e+09      NaN  \n",
      "50%     4.225842e+09      NaN  \n",
      "75%     5.000450e+09      NaN  \n",
      "max     5.451742e+09      NaN  \n"
     ]
    }
   ],
   "source": [
    "#mu_fd_row = sum of fd_pick-fd_drop/size (fd_pick U fd_drop)\n",
    "print(hourly_traffic_data[0].describe(include='all'))"
   ]
  },
  {
   "cell_type": "markdown",
   "metadata": {},
   "source": [
    "### 2012 Volume Hourly"
   ]
  },
  {
   "cell_type": "code",
   "execution_count": 67,
   "metadata": {
    "collapsed": false
   },
   "outputs": [
    {
     "name": "stdout",
     "output_type": "stream",
     "text": [
      "           OBJECTID_1        ABPair          Volume\n",
      "count  1098132.000000  1.076076e+06  1098132.000000\n",
      "mean    549068.691853  4.026664e+09     1218.511666\n",
      "std     317005.263355  9.857192e+08     1523.219734\n",
      "min          1.000000  2.001922e+09        0.000000\n",
      "25%     274533.750000  3.415534e+09      190.000000\n",
      "50%     549070.500000  4.225842e+09      657.000000\n",
      "75%     823603.250000  4.803048e+09     1584.000000\n",
      "max    1098136.000000  5.403854e+09    10839.000000\n"
     ]
    }
   ],
   "source": [
    "print(hourly_traffic_data[1].describe())"
   ]
  },
  {
   "cell_type": "markdown",
   "metadata": {},
   "source": [
    "### 2013 Volume Hourly"
   ]
  },
  {
   "cell_type": "code",
   "execution_count": 65,
   "metadata": {
    "collapsed": false
   },
   "outputs": [
    {
     "name": "stdout",
     "output_type": "stream",
     "text": [
      "            ﻿OBJECTID          Volume        ABPair\n",
      "count  1503888.000000  1503888.000000  1.503792e+06\n",
      "mean    751944.500000     1499.650407  4.093067e+09\n",
      "std     434135.215153     1693.212641  9.295224e+08\n",
      "min          1.000000        0.000000  2.000222e+09\n",
      "25%     375972.750000      292.000000  3.480938e+09\n",
      "50%     751944.500000      858.000000  4.095441e+09\n",
      "75%    1127916.250000     2079.000000  5.003750e+09\n",
      "max    1503888.000000    10101.000000  5.402854e+09\n"
     ]
    }
   ],
   "source": [
    "print(hourly_traffic_data[2].describe())"
   ]
  },
  {
   "cell_type": "markdown",
   "metadata": {},
   "source": [
    "### 2014 Volume Hourly"
   ]
  },
  {
   "cell_type": "code",
   "execution_count": 75,
   "metadata": {
    "collapsed": false
   },
   "outputs": [
    {
     "name": "stdout",
     "output_type": "stream",
     "text": [
      "             ﻿OBJECTID    State  StationID Direction         DateTime1  \\\n",
      "count   1778868.000000  1778868    1778868   1778868           1778868   \n",
      "unique             NaN        3        962         4              8760   \n",
      "top                NaN       VA      90065         N  05/14/2014 15:00   \n",
      "freq               NaN   980792      26277    603821               297   \n",
      "mean     889434.500000      NaN        NaN       NaN               NaN   \n",
      "std      513515.103664      NaN        NaN       NaN               NaN   \n",
      "min           1.000000      NaN        NaN       NaN               NaN   \n",
      "25%      444717.750000      NaN        NaN       NaN               NaN   \n",
      "50%      889434.500000      NaN        NaN       NaN               NaN   \n",
      "75%     1334151.250000      NaN        NaN       NaN               NaN   \n",
      "max     1778868.000000      NaN        NaN       NaN               NaN   \n",
      "\n",
      "                        DateTime          Volume        ABPair   Sta_Dir  \n",
      "count                    1778868  1778868.000000  1.769629e+06   1778868  \n",
      "unique                      8759             NaN           NaN      1823  \n",
      "top     2014-05-14T13:00:00.000Z             NaN           NaN  190316_S  \n",
      "freq                         297             NaN           NaN      8759  \n",
      "mean                         NaN     1417.516432  3.805832e+09       NaN  \n",
      "std                          NaN     1656.717998  1.099650e+09       NaN  \n",
      "min                          NaN        0.000000  2.000120e+09       NaN  \n",
      "25%                          NaN      269.000000  3.013531e+09       NaN  \n",
      "50%                          NaN      794.000000  3.840138e+09       NaN  \n",
      "75%                          NaN     1905.000000  4.713047e+09       NaN  \n",
      "max                          NaN    10835.000000  5.451742e+09       NaN  \n"
     ]
    }
   ],
   "source": [
    "print(hourly_traffic_data[3].describe(include='all'))"
   ]
  },
  {
   "cell_type": "code",
   "execution_count": null,
   "metadata": {
    "collapsed": true
   },
   "outputs": [],
   "source": []
  }
 ],
 "metadata": {
  "kernelspec": {
   "display_name": "Python 3",
   "language": "python",
   "name": "python3"
  },
  "language_info": {
   "codemirror_mode": {
    "name": "ipython",
    "version": 3
   },
   "file_extension": ".py",
   "mimetype": "text/x-python",
   "name": "python",
   "nbconvert_exporter": "python",
   "pygments_lexer": "ipython3",
   "version": "3.5.0"
  }
 },
 "nbformat": 4,
 "nbformat_minor": 0
}
