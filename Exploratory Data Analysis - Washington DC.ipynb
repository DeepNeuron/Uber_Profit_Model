{
 "cells": [
  {
   "cell_type": "code",
   "execution_count": 1,
   "metadata": {
    "collapsed": true
   },
   "outputs": [],
   "source": [
    "import numpy as np\n",
    "import cv2\n",
    "import matplotlib.pyplot as plt\n",
    "import matplotlib.image as mpimg\n",
    "%matplotlib inline\n",
    "import glob\n",
    "import csv\n",
    "import pandas as pd"
   ]
  },
  {
   "cell_type": "code",
   "execution_count": 2,
   "metadata": {
    "collapsed": false
   },
   "outputs": [],
   "source": [
    "def read_all_Uber_data():\n",
    "    \"\"\"\n",
    "    This function load all the Uber data in the folder and merge them together into one data frame\n",
    "    \"\"\"\n",
    "    # Read in all the dataset\n",
    "    data_file_paths = glob.glob(\"DC_Data/Uber-DC*\")\n",
    "    \n",
    "    all_data = []\n",
    "    for fname in data_file_paths: # Read file name\n",
    "        data= pd.read_csv(fname)\n",
    "        all_data.append(data)\n",
    "        # Find column names\n",
    "        # list(data)\n",
    "\n",
    "    # Merge all the datasets and store in one dataframe called data_merge\n",
    "    data_merge = all_data[0]\n",
    "    for i in range(1,len(all_data)):\n",
    "        next_data = all_data[i]\n",
    "        frames = [data_merge,next_data]\n",
    "        data_merge = pd.concat(frames)\n",
    "    return data_merge"
   ]
  },
  {
   "cell_type": "code",
   "execution_count": 19,
   "metadata": {
    "collapsed": false
   },
   "outputs": [],
   "source": [
    "# Read all the Uber data in Washington DC, merge into a data frame, and return the dataframe\n",
    "# data = read_all_Uber_data()\n",
    "# Save data in a csv\n",
    "# data.to_csv(\"DC_Data/Uber_All.csv\")"
   ]
  },
  {
   "cell_type": "code",
   "execution_count": 65,
   "metadata": {
    "collapsed": true
   },
   "outputs": [],
   "source": [
    "data= pd.read_csv(\"DC_Data/Uber_All.csv\")\n",
    "data = data.drop('Unnamed: 0', 1) # Drop a unuseful column for index"
   ]
  },
  {
   "cell_type": "code",
   "execution_count": 66,
   "metadata": {
    "collapsed": false
   },
   "outputs": [
    {
     "data": {
      "text/plain": [
       "(35512, 10)"
      ]
     },
     "execution_count": 66,
     "metadata": {},
     "output_type": "execute_result"
    }
   ],
   "source": [
    "# Find the data dimension\n",
    "data.shape"
   ]
  },
  {
   "cell_type": "code",
   "execution_count": 67,
   "metadata": {
    "collapsed": false
   },
   "outputs": [
    {
     "data": {
      "text/plain": [
       "['Origin Movement ID',\n",
       " 'Origin Display Name',\n",
       " 'Origin Geometry',\n",
       " 'Destination Movement ID',\n",
       " 'Destination Display Name',\n",
       " 'Destination Geometry',\n",
       " 'Date Range',\n",
       " 'Mean Travel Time (Seconds)',\n",
       " 'Range - Lower Bound Travel Time (Seconds)',\n",
       " 'Range - Upper Bound Travel Time (Seconds)']"
      ]
     },
     "execution_count": 67,
     "metadata": {},
     "output_type": "execute_result"
    }
   ],
   "source": [
    "# Find the data columns\n",
    "colnames = list(data)\n",
    "colnames"
   ]
  },
  {
   "cell_type": "code",
   "execution_count": 68,
   "metadata": {
    "collapsed": false,
    "scrolled": true
   },
   "outputs": [],
   "source": [
    "longtitudes = []\n",
    "latitudes = []\n",
    "for line in data[colnames[5]]:\n",
    "    array = line.split(',')\n",
    "    item = array[2]\n",
    "    longtitude = item[1:]\n",
    "    #first_item = first_item.split('[')\n",
    "    item = array[3]\n",
    "    latitutde = item[:-1]\n",
    "    longtitudes.append(longtitude)\n",
    "    latitudes.append(latitutde)\n",
    "data['latitudes']= latitudes\n",
    "data['longtitudes'] = longtitudes"
   ]
  },
  {
   "cell_type": "code",
   "execution_count": 78,
   "metadata": {
    "collapsed": false
   },
   "outputs": [],
   "source": [
    "Months = []\n",
    "Weekdays = []\n",
    "Times = []\n",
    "for line in data[colnames[6]]:\n",
    "    array = line.split(',')\n",
    "    Month = array[0]\n",
    "    Weekday = array[1]\n",
    "    Time = array[2]\n",
    "    \n",
    "    Months.append(Month)\n",
    "    Weekdays.append(Weekday)\n",
    "    Times.append(Time)\n",
    "data['Months']= Months\n",
    "data['Weekdays'] = Weekdays\n",
    "data['Times'] = Times"
   ]
  },
  {
   "cell_type": "code",
   "execution_count": 81,
   "metadata": {
    "collapsed": false
   },
   "outputs": [],
   "source": [
    "data.to_csv(\"DC_Data/Uber_All_processed.csv\")"
   ]
  },
  {
   "cell_type": "code",
   "execution_count": 80,
   "metadata": {
    "collapsed": false
   },
   "outputs": [
    {
     "data": {
      "text/html": [
       "<div>\n",
       "<table border=\"1\" class=\"dataframe\">\n",
       "  <thead>\n",
       "    <tr style=\"text-align: right;\">\n",
       "      <th></th>\n",
       "      <th>Origin Movement ID</th>\n",
       "      <th>Origin Display Name</th>\n",
       "      <th>Origin Geometry</th>\n",
       "      <th>Destination Movement ID</th>\n",
       "      <th>Destination Display Name</th>\n",
       "      <th>Destination Geometry</th>\n",
       "      <th>Date Range</th>\n",
       "      <th>Mean Travel Time (Seconds)</th>\n",
       "      <th>Range - Lower Bound Travel Time (Seconds)</th>\n",
       "      <th>Range - Upper Bound Travel Time (Seconds)</th>\n",
       "      <th>latitudes</th>\n",
       "      <th>longtitudes</th>\n",
       "      <th>Months</th>\n",
       "      <th>Weekdays</th>\n",
       "      <th>Times</th>\n",
       "    </tr>\n",
       "  </thead>\n",
       "  <tbody>\n",
       "    <tr>\n",
       "      <th>0</th>\n",
       "      <td>186</td>\n",
       "      <td>20001, Northwest Washington, Washington</td>\n",
       "      <td>[[-77.033645,38.897345],[-77.033644,38.898314]...</td>\n",
       "      <td>1</td>\n",
       "      <td>5400 Arnold Avenue Southwest, Southwest Washin...</td>\n",
       "      <td>[[-77.048009,38.841266],[-77.047969,38.841267]...</td>\n",
       "      <td>04/01/2016 - 06/30/2016, Fridays, 04:00PM-06:00PM</td>\n",
       "      <td>1288</td>\n",
       "      <td>939</td>\n",
       "      <td>1765</td>\n",
       "      <td>38.841267</td>\n",
       "      <td>-77.047969</td>\n",
       "      <td>04/01/2016 - 06/30/2016</td>\n",
       "      <td>Fridays</td>\n",
       "      <td>04:00PM-06:00PM</td>\n",
       "    </tr>\n",
       "  </tbody>\n",
       "</table>\n",
       "</div>"
      ],
      "text/plain": [
       "   Origin Movement ID                      Origin Display Name  \\\n",
       "0                 186  20001, Northwest Washington, Washington   \n",
       "\n",
       "                                     Origin Geometry  Destination Movement ID  \\\n",
       "0  [[-77.033645,38.897345],[-77.033644,38.898314]...                        1   \n",
       "\n",
       "                            Destination Display Name  \\\n",
       "0  5400 Arnold Avenue Southwest, Southwest Washin...   \n",
       "\n",
       "                                Destination Geometry  \\\n",
       "0  [[-77.048009,38.841266],[-77.047969,38.841267]...   \n",
       "\n",
       "                                          Date Range  \\\n",
       "0  04/01/2016 - 06/30/2016, Fridays, 04:00PM-06:00PM   \n",
       "\n",
       "   Mean Travel Time (Seconds)  Range - Lower Bound Travel Time (Seconds)  \\\n",
       "0                        1288                                        939   \n",
       "\n",
       "   Range - Upper Bound Travel Time (Seconds)  latitudes longtitudes  \\\n",
       "0                                       1765  38.841267  -77.047969   \n",
       "\n",
       "                    Months  Weekdays             Times  \n",
       "0  04/01/2016 - 06/30/2016   Fridays   04:00PM-06:00PM  "
      ]
     },
     "execution_count": 80,
     "metadata": {},
     "output_type": "execute_result"
    }
   ],
   "source": [
    "data[:1]"
   ]
  },
  {
   "cell_type": "code",
   "execution_count": null,
   "metadata": {
    "collapsed": true
   },
   "outputs": [],
   "source": []
  }
 ],
 "metadata": {
  "anaconda-cloud": {},
  "kernelspec": {
   "display_name": "Python [conda root]",
   "language": "python",
   "name": "conda-root-py"
  },
  "language_info": {
   "codemirror_mode": {
    "name": "ipython",
    "version": 3
   },
   "file_extension": ".py",
   "mimetype": "text/x-python",
   "name": "python",
   "nbconvert_exporter": "python",
   "pygments_lexer": "ipython3",
   "version": "3.5.2"
  }
 },
 "nbformat": 4,
 "nbformat_minor": 1
}
