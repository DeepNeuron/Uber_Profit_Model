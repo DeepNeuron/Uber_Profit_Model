{
 "cells": [
  {
   "cell_type": "code",
   "execution_count": 1,
   "metadata": {
    "collapsed": true
   },
   "outputs": [],
   "source": [
    "import numpy as np\n",
    "import cv2\n",
    "import matplotlib.pyplot as plt\n",
    "import matplotlib.image as mpimg\n",
    "%matplotlib inline\n",
    "import glob\n",
    "import csv\n",
    "import pandas as pd\n",
    "import re"
   ]
  },
  {
   "cell_type": "code",
   "execution_count": 149,
   "metadata": {
    "collapsed": false,
    "scrolled": false
   },
   "outputs": [
    {
     "data": {
      "text/html": [
       "<div>\n",
       "<table border=\"1\" class=\"dataframe\">\n",
       "  <thead>\n",
       "    <tr style=\"text-align: right;\">\n",
       "      <th></th>\n",
       "      <th>Origin Movement ID</th>\n",
       "      <th>Origin Display Name</th>\n",
       "      <th>Origin Geometry</th>\n",
       "      <th>Destination Movement ID</th>\n",
       "      <th>Destination Display Name</th>\n",
       "      <th>Destination Geometry</th>\n",
       "      <th>Date Range</th>\n",
       "      <th>Mean Travel Time (Seconds)</th>\n",
       "      <th>Range - Lower Bound Travel Time (Seconds)</th>\n",
       "      <th>Range - Upper Bound Travel Time (Seconds)</th>\n",
       "    </tr>\n",
       "  </thead>\n",
       "  <tbody>\n",
       "    <tr>\n",
       "      <th>0</th>\n",
       "      <td>123</td>\n",
       "      <td>600 Independence Avenue Southeast, Southeast W...</td>\n",
       "      <td>[[-77.003515,38.889705],[-77.003515,38.889808]...</td>\n",
       "      <td>7</td>\n",
       "      <td>4500 Ohio Drive Southwest, Southwest Washingto...</td>\n",
       "      <td>[[-77.064696,38.891852],[-77.064626,38.891837]...</td>\n",
       "      <td>01/01/2016 - 03/31/2016, Sundays, 07:00AM-09:00AM</td>\n",
       "      <td>382</td>\n",
       "      <td>164</td>\n",
       "      <td>892</td>\n",
       "    </tr>\n",
       "  </tbody>\n",
       "</table>\n",
       "</div>"
      ],
      "text/plain": [
       "   Origin Movement ID                                Origin Display Name  \\\n",
       "0                 123  600 Independence Avenue Southeast, Southeast W...   \n",
       "\n",
       "                                     Origin Geometry  Destination Movement ID  \\\n",
       "0  [[-77.003515,38.889705],[-77.003515,38.889808]...                        7   \n",
       "\n",
       "                            Destination Display Name  \\\n",
       "0  4500 Ohio Drive Southwest, Southwest Washingto...   \n",
       "\n",
       "                                Destination Geometry  \\\n",
       "0  [[-77.064696,38.891852],[-77.064626,38.891837]...   \n",
       "\n",
       "                                          Date Range  \\\n",
       "0  01/01/2016 - 03/31/2016, Sundays, 07:00AM-09:00AM   \n",
       "\n",
       "   Mean Travel Time (Seconds)  Range - Lower Bound Travel Time (Seconds)  \\\n",
       "0                         382                                        164   \n",
       "\n",
       "   Range - Upper Bound Travel Time (Seconds)  \n",
       "0                                        892  "
      ]
     },
     "execution_count": 149,
     "metadata": {},
     "output_type": "execute_result"
    }
   ],
   "source": [
    "data= pd.read_csv(\"DC_Uber_Data/Uber_DC_R1_Sun_7_9.csv\")\n",
    "data[:1]"
   ]
  },
  {
   "cell_type": "code",
   "execution_count": 151,
   "metadata": {
    "collapsed": false
   },
   "outputs": [
    {
     "data": {
      "text/html": [
       "<div>\n",
       "<table border=\"1\" class=\"dataframe\">\n",
       "  <thead>\n",
       "    <tr style=\"text-align: right;\">\n",
       "      <th></th>\n",
       "      <th>Origin Movement ID</th>\n",
       "      <th>Origin Display Name</th>\n",
       "      <th>Origin Geometry</th>\n",
       "      <th>Destination Movement ID</th>\n",
       "      <th>Destination Display Name</th>\n",
       "      <th>Destination Geometry</th>\n",
       "      <th>Date Range</th>\n",
       "      <th>Mean Travel Time (Seconds)</th>\n",
       "      <th>Range - Lower Bound Travel Time (Seconds)</th>\n",
       "      <th>Range - Upper Bound Travel Time (Seconds)</th>\n",
       "      <th>Origin Longitude</th>\n",
       "      <th>Origin Latitude</th>\n",
       "      <th>Destination Longitude</th>\n",
       "      <th>Destination Latitude</th>\n",
       "    </tr>\n",
       "  </thead>\n",
       "  <tbody>\n",
       "    <tr>\n",
       "      <th>0</th>\n",
       "      <td>123</td>\n",
       "      <td>600 Independence Avenue Southeast, Southeast W...</td>\n",
       "      <td>[[-77.003515,38.889705],[-77.003515,38.889808]...</td>\n",
       "      <td>7</td>\n",
       "      <td>4500 Ohio Drive Southwest, Southwest Washingto...</td>\n",
       "      <td>[[-77.064696,38.891852],[-77.064626,38.891837]...</td>\n",
       "      <td>01/01/2016 - 03/31/2016, Sundays, 07:00AM-09:00AM</td>\n",
       "      <td>382</td>\n",
       "      <td>164</td>\n",
       "      <td>892</td>\n",
       "      <td>[-77.003515, -77.003515, -77.003114, -77.00258...</td>\n",
       "      <td>[38.889705, 38.889808, 38.889807, 38.889808, 3...</td>\n",
       "      <td>[-77.064696, -77.064626, -77.06435, -77.064164...</td>\n",
       "      <td>[38.891852, 38.891837, 38.891795, 38.891773, 3...</td>\n",
       "    </tr>\n",
       "  </tbody>\n",
       "</table>\n",
       "</div>"
      ],
      "text/plain": [
       "   Origin Movement ID                                Origin Display Name  \\\n",
       "0                 123  600 Independence Avenue Southeast, Southeast W...   \n",
       "\n",
       "                                     Origin Geometry  Destination Movement ID  \\\n",
       "0  [[-77.003515,38.889705],[-77.003515,38.889808]...                        7   \n",
       "\n",
       "                            Destination Display Name  \\\n",
       "0  4500 Ohio Drive Southwest, Southwest Washingto...   \n",
       "\n",
       "                                Destination Geometry  \\\n",
       "0  [[-77.064696,38.891852],[-77.064626,38.891837]...   \n",
       "\n",
       "                                          Date Range  \\\n",
       "0  01/01/2016 - 03/31/2016, Sundays, 07:00AM-09:00AM   \n",
       "\n",
       "   Mean Travel Time (Seconds)  Range - Lower Bound Travel Time (Seconds)  \\\n",
       "0                         382                                        164   \n",
       "\n",
       "   Range - Upper Bound Travel Time (Seconds)  \\\n",
       "0                                        892   \n",
       "\n",
       "                                    Origin Longitude  \\\n",
       "0  [-77.003515, -77.003515, -77.003114, -77.00258...   \n",
       "\n",
       "                                     Origin Latitude  \\\n",
       "0  [38.889705, 38.889808, 38.889807, 38.889808, 3...   \n",
       "\n",
       "                               Destination Longitude  \\\n",
       "0  [-77.064696, -77.064626, -77.06435, -77.064164...   \n",
       "\n",
       "                                Destination Latitude  \n",
       "0  [38.891852, 38.891837, 38.891795, 38.891773, 3...  "
      ]
     },
     "execution_count": 151,
     "metadata": {},
     "output_type": "execute_result"
    }
   ],
   "source": [
    "# Extract the Origin Information\n",
    "data_after_extraction = extract_origin_geodata(data,'Origin Geometry','Origin Longitude','Origin Latitude')\n",
    "data_after_extraction = extract_origin_geodata(data_after_extraction,'Destination Geometry','Destination Longitude','Destination Latitude')\n",
    "data[:1]"
   ]
  },
  {
   "cell_type": "code",
   "execution_count": 136,
   "metadata": {
    "collapsed": false
   },
   "outputs": [],
   "source": [
    "def read_all_Uber_data():\n",
    "    \"\"\"\n",
    "    This function load all the Uber data in the folder and merge them together into one data frame\n",
    "    \"\"\"\n",
    "    # Read in all the dataset\n",
    "    data_file_paths = glob.glob(\"DC_Uber_Data/Uber_DC*\")\n",
    "    \n",
    "    all_data = []\n",
    "    for fname in data_file_paths: # Read file name\n",
    "        data= pd.read_csv(fname)\n",
    "        all_data.append(data)\n",
    "        # Find column names\n",
    "        # list(data)\n",
    "\n",
    "    # Merge all the datasets and store in one dataframe called data_merge\n",
    "    data_merge = all_data[0]\n",
    "    for i in range(1,len(all_data)):\n",
    "        next_data = all_data[i]\n",
    "        frames = [data_merge,next_data]\n",
    "        data_merge = pd.concat(frames)\n",
    "    return data_merge\n",
    "\n",
    "\n",
    "def extract_time_data(data):\n",
    "    \"\"\"\n",
    "    This function extract the time data including the Months, Day of Week, and Hour of Day\n",
    "    \"\"\"\n",
    "    Months = []\n",
    "    Weekdays = []\n",
    "    Times = []\n",
    "    for line in data[colnames[6]]:\n",
    "        array = line.split(',')\n",
    "        Month = array[0]\n",
    "        Weekday = array[1]\n",
    "        Time = array[2]\n",
    "\n",
    "        Months.append(Month)\n",
    "        Weekdays.append(Weekday)\n",
    "        Times.append(Time)\n",
    "    data['Months']= Months\n",
    "    data['Weekdays'] = Weekdays\n",
    "    data['Times'] = Times\n",
    "    return data"
   ]
  },
  {
   "cell_type": "code",
   "execution_count": 148,
   "metadata": {
    "collapsed": false
   },
   "outputs": [],
   "source": [
    "def extract_origin_geodata(data,colname,new_colname_longitude,new_colname_latitude):\n",
    "    \"\"\"\n",
    "    This function read all the original longitudes and latitudes and store in two new columns.\n",
    "    Instead of writing two functions to reach the origin and destination geometry data respectively, I just wrote one\n",
    "    to be used in both scenario\n",
    "    data: the Uber Movement Dataset\n",
    "    colname: the name of the column that store the geodata: 'Origin Geometry' / 'Desination Geometry'\n",
    "    new_colname_longitude: the name for the new column that stores the extracted longitude information\n",
    "    new_colname_latitude: the name for the new column that stores the extracted latitude information\n",
    "    \"\"\"\n",
    "    rows_longitudes = [] # Store the longitude info of each row\n",
    "    rows_latitudes = [] # Store the latitude info of each row\n",
    "\n",
    "    # Read the Destination Geometry data from each line\n",
    "    for line in data[colname]: # The index is subject to change when we merged multiple dataset together\n",
    "        longitudes = [] # Record the longitudes in each row\n",
    "        latitudes = [] # Record the latitudes in each row\n",
    "\n",
    "        array = re.split(r'[|[|,|]',line) # Split the cell contents\n",
    "        # First two components are negligible, every three units (as a pack) after contain: longitutde, latitutde, and null. \n",
    "        # Each latitude contains a ']' in the end\n",
    "        # The last latitutde contains 2 ']'s\n",
    "        # The last pack contains only two units: a longitude, and a latitutde\n",
    "        total_coords = int((len(array)-2+1)/3); # Find the total number of pairs of longitudes and latitudes\n",
    "        for i in range(0,total_coords): # Loop until the second last \n",
    "            longitudes.append(float(array[i*3+2]))\n",
    "            latitude_pieces = array[i*3+3].split(']')\n",
    "            latitudes.append(float(latitude_pieces[0]))\n",
    "        rows_longitudes.append(longitudes);\n",
    "        rows_latitudes.append(latitudes);\n",
    "    data[new_colname_longitude] = rows_longitudes # Add one more column for destination longitudes\n",
    "    data[new_colname_latitude]= rows_latitudes # Add one more column for destination latitudes\n",
    "    \n",
    "    # To read the first destination longitude of the first row:\n",
    "    # data['dest_longtitudes'][0][0]\n",
    "    return data"
   ]
  },
  {
   "cell_type": "code",
   "execution_count": 6,
   "metadata": {
    "collapsed": false
   },
   "outputs": [],
   "source": [
    "# Read all the Uber data in Washington DC, merge into a data frame, and return the dataframe\n",
    "data = read_all_Uber_data()\n",
    "# Save data in a csv\n",
    "# data.to_csv(\"DC_Data/Uber_All.csv\")"
   ]
  },
  {
   "cell_type": "code",
   "execution_count": 65,
   "metadata": {
    "collapsed": true
   },
   "outputs": [],
   "source": [
    "data= pd.read_csv(\"DC_Data/Uber_All.csv\")\n",
    "data = data.drop('Unnamed: 0', 1) # Drop a unuseful column for index"
   ]
  },
  {
   "cell_type": "code",
   "execution_count": 7,
   "metadata": {
    "collapsed": false
   },
   "outputs": [
    {
     "data": {
      "text/plain": [
       "(1030, 10)"
      ]
     },
     "execution_count": 7,
     "metadata": {},
     "output_type": "execute_result"
    }
   ],
   "source": [
    "# Find the data dimension\n",
    "data.shape"
   ]
  },
  {
   "cell_type": "code",
   "execution_count": 10,
   "metadata": {
    "collapsed": false
   },
   "outputs": [
    {
     "data": {
      "text/plain": [
       "['Origin Movement ID',\n",
       " 'Origin Display Name',\n",
       " 'Origin Geometry',\n",
       " 'Destination Movement ID',\n",
       " 'Destination Display Name',\n",
       " 'Destination Geometry',\n",
       " 'Date Range',\n",
       " 'Mean Travel Time (Seconds)',\n",
       " 'Range - Lower Bound Travel Time (Seconds)',\n",
       " 'Range - Upper Bound Travel Time (Seconds)']"
      ]
     },
     "execution_count": 10,
     "metadata": {},
     "output_type": "execute_result"
    }
   ],
   "source": [
    "# Find the data columns\n",
    "colnames = list(data)\n",
    "colnames"
   ]
  },
  {
   "cell_type": "code",
   "execution_count": 81,
   "metadata": {
    "collapsed": false
   },
   "outputs": [],
   "source": [
    "data.to_csv(\"DC_Data/Uber_All_processed.csv\")"
   ]
  },
  {
   "cell_type": "code",
   "execution_count": 13,
   "metadata": {
    "collapsed": false
   },
   "outputs": [
    {
     "data": {
      "text/html": [
       "<div>\n",
       "<table border=\"1\" class=\"dataframe\">\n",
       "  <thead>\n",
       "    <tr style=\"text-align: right;\">\n",
       "      <th></th>\n",
       "      <th>Origin Movement ID</th>\n",
       "      <th>Origin Display Name</th>\n",
       "      <th>Origin Geometry</th>\n",
       "      <th>Destination Movement ID</th>\n",
       "      <th>Destination Display Name</th>\n",
       "      <th>Destination Geometry</th>\n",
       "      <th>Date Range</th>\n",
       "      <th>Mean Travel Time (Seconds)</th>\n",
       "      <th>Range - Lower Bound Travel Time (Seconds)</th>\n",
       "      <th>Range - Upper Bound Travel Time (Seconds)</th>\n",
       "      <th>latitudes</th>\n",
       "      <th>longtitudes</th>\n",
       "      <th>Months</th>\n",
       "      <th>Weekdays</th>\n",
       "      <th>Times</th>\n",
       "    </tr>\n",
       "  </thead>\n",
       "  <tbody>\n",
       "    <tr>\n",
       "      <th>0</th>\n",
       "      <td>123</td>\n",
       "      <td>600 Independence Avenue Southeast, Southeast W...</td>\n",
       "      <td>[[-77.003515,38.889705],[-77.003515,38.889808]...</td>\n",
       "      <td>1</td>\n",
       "      <td>5400 Arnold Avenue Southwest, Southwest Washin...</td>\n",
       "      <td>[[-77.048009,38.841266],[-77.047969,38.841267]...</td>\n",
       "      <td>01/01/2016 - 03/31/2016, Sundays, 12:00AM-02:00AM</td>\n",
       "      <td>504</td>\n",
       "      <td>415</td>\n",
       "      <td>612</td>\n",
       "      <td>38.841267</td>\n",
       "      <td>-77.047969</td>\n",
       "      <td>01/01/2016 - 03/31/2016</td>\n",
       "      <td>Sundays</td>\n",
       "      <td>12:00AM-02:00AM</td>\n",
       "    </tr>\n",
       "  </tbody>\n",
       "</table>\n",
       "</div>"
      ],
      "text/plain": [
       "   Origin Movement ID                                Origin Display Name  \\\n",
       "0                 123  600 Independence Avenue Southeast, Southeast W...   \n",
       "\n",
       "                                     Origin Geometry  Destination Movement ID  \\\n",
       "0  [[-77.003515,38.889705],[-77.003515,38.889808]...                        1   \n",
       "\n",
       "                            Destination Display Name  \\\n",
       "0  5400 Arnold Avenue Southwest, Southwest Washin...   \n",
       "\n",
       "                                Destination Geometry  \\\n",
       "0  [[-77.048009,38.841266],[-77.047969,38.841267]...   \n",
       "\n",
       "                                          Date Range  \\\n",
       "0  01/01/2016 - 03/31/2016, Sundays, 12:00AM-02:00AM   \n",
       "\n",
       "   Mean Travel Time (Seconds)  Range - Lower Bound Travel Time (Seconds)  \\\n",
       "0                         504                                        415   \n",
       "\n",
       "   Range - Upper Bound Travel Time (Seconds)  latitudes longtitudes  \\\n",
       "0                                        612  38.841267  -77.047969   \n",
       "\n",
       "                    Months  Weekdays             Times  \n",
       "0  01/01/2016 - 03/31/2016   Sundays   12:00AM-02:00AM  "
      ]
     },
     "execution_count": 13,
     "metadata": {},
     "output_type": "execute_result"
    }
   ],
   "source": [
    "data[:1]"
   ]
  }
 ],
 "metadata": {
  "anaconda-cloud": {},
  "kernelspec": {
   "display_name": "Python [conda root]",
   "language": "python",
   "name": "conda-root-py"
  },
  "language_info": {
   "codemirror_mode": {
    "name": "ipython",
    "version": 3
   },
   "file_extension": ".py",
   "mimetype": "text/x-python",
   "name": "python",
   "nbconvert_exporter": "python",
   "pygments_lexer": "ipython3",
   "version": "3.5.2"
  }
 },
 "nbformat": 4,
 "nbformat_minor": 1
}
