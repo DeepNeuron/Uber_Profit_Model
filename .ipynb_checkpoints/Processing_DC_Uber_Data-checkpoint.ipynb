{
 "cells": [
  {
   "cell_type": "code",
   "execution_count": 1,
   "metadata": {
    "collapsed": true
   },
   "outputs": [],
   "source": [
    "import numpy as np\n",
    "import cv2\n",
    "import matplotlib.pyplot as plt\n",
    "import matplotlib.image as mpimg\n",
    "%matplotlib inline\n",
    "import glob\n",
    "import csv\n",
    "import pandas as pd\n",
    "import re"
   ]
  },
  {
   "cell_type": "code",
   "execution_count": 149,
   "metadata": {
    "collapsed": false,
    "scrolled": false
   },
   "outputs": [
    {
     "data": {
      "text/html": [
       "<div>\n",
       "<table border=\"1\" class=\"dataframe\">\n",
       "  <thead>\n",
       "    <tr style=\"text-align: right;\">\n",
       "      <th></th>\n",
       "      <th>Origin Movement ID</th>\n",
       "      <th>Origin Display Name</th>\n",
       "      <th>Origin Geometry</th>\n",
       "      <th>Destination Movement ID</th>\n",
       "      <th>Destination Display Name</th>\n",
       "      <th>Destination Geometry</th>\n",
       "      <th>Date Range</th>\n",
       "      <th>Mean Travel Time (Seconds)</th>\n",
       "      <th>Range - Lower Bound Travel Time (Seconds)</th>\n",
       "      <th>Range - Upper Bound Travel Time (Seconds)</th>\n",
       "    </tr>\n",
       "  </thead>\n",
       "  <tbody>\n",
       "    <tr>\n",
       "      <th>0</th>\n",
       "      <td>123</td>\n",
       "      <td>600 Independence Avenue Southeast, Southeast W...</td>\n",
       "      <td>[[-77.003515,38.889705],[-77.003515,38.889808]...</td>\n",
       "      <td>7</td>\n",
       "      <td>4500 Ohio Drive Southwest, Southwest Washingto...</td>\n",
       "      <td>[[-77.064696,38.891852],[-77.064626,38.891837]...</td>\n",
       "      <td>01/01/2016 - 03/31/2016, Sundays, 07:00AM-09:00AM</td>\n",
       "      <td>382</td>\n",
       "      <td>164</td>\n",
       "      <td>892</td>\n",
       "    </tr>\n",
       "  </tbody>\n",
       "</table>\n",
       "</div>"
      ],
      "text/plain": [
       "   Origin Movement ID                                Origin Display Name  \\\n",
       "0                 123  600 Independence Avenue Southeast, Southeast W...   \n",
       "\n",
       "                                     Origin Geometry  Destination Movement ID  \\\n",
       "0  [[-77.003515,38.889705],[-77.003515,38.889808]...                        7   \n",
       "\n",
       "                            Destination Display Name  \\\n",
       "0  4500 Ohio Drive Southwest, Southwest Washingto...   \n",
       "\n",
       "                                Destination Geometry  \\\n",
       "0  [[-77.064696,38.891852],[-77.064626,38.891837]...   \n",
       "\n",
       "                                          Date Range  \\\n",
       "0  01/01/2016 - 03/31/2016, Sundays, 07:00AM-09:00AM   \n",
       "\n",
       "   Mean Travel Time (Seconds)  Range - Lower Bound Travel Time (Seconds)  \\\n",
       "0                         382                                        164   \n",
       "\n",
       "   Range - Upper Bound Travel Time (Seconds)  \n",
       "0                                        892  "
      ]
     },
     "execution_count": 149,
     "metadata": {},
     "output_type": "execute_result"
    }
   ],
   "source": [
    "data= pd.read_csv(\"DC_Uber_Data/Uber_DC_R1_Sun_7_9.csv\")\n",
    "data[:1]"
   ]
  },
  {
   "cell_type": "code",
   "execution_count": 151,
   "metadata": {
    "collapsed": false
   },
   "outputs": [
    {
     "data": {
      "text/html": [
       "<div>\n",
       "<table border=\"1\" class=\"dataframe\">\n",
       "  <thead>\n",
       "    <tr style=\"text-align: right;\">\n",
       "      <th></th>\n",
       "      <th>Origin Movement ID</th>\n",
       "      <th>Origin Display Name</th>\n",
       "      <th>Origin Geometry</th>\n",
       "      <th>Destination Movement ID</th>\n",
       "      <th>Destination Display Name</th>\n",
       "      <th>Destination Geometry</th>\n",
       "      <th>Date Range</th>\n",
       "      <th>Mean Travel Time (Seconds)</th>\n",
       "      <th>Range - Lower Bound Travel Time (Seconds)</th>\n",
       "      <th>Range - Upper Bound Travel Time (Seconds)</th>\n",
       "      <th>Origin Longitude</th>\n",
       "      <th>Origin Latitude</th>\n",
       "      <th>Destination Longitude</th>\n",
       "      <th>Destination Latitude</th>\n",
       "    </tr>\n",
       "  </thead>\n",
       "  <tbody>\n",
       "    <tr>\n",
       "      <th>0</th>\n",
       "      <td>123</td>\n",
       "      <td>600 Independence Avenue Southeast, Southeast W...</td>\n",
       "      <td>[[-77.003515,38.889705],[-77.003515,38.889808]...</td>\n",
       "      <td>7</td>\n",
       "      <td>4500 Ohio Drive Southwest, Southwest Washingto...</td>\n",
       "      <td>[[-77.064696,38.891852],[-77.064626,38.891837]...</td>\n",
       "      <td>01/01/2016 - 03/31/2016, Sundays, 07:00AM-09:00AM</td>\n",
       "      <td>382</td>\n",
       "      <td>164</td>\n",
       "      <td>892</td>\n",
       "      <td>[-77.003515, -77.003515, -77.003114, -77.00258...</td>\n",
       "      <td>[38.889705, 38.889808, 38.889807, 38.889808, 3...</td>\n",
       "      <td>[-77.064696, -77.064626, -77.06435, -77.064164...</td>\n",
       "      <td>[38.891852, 38.891837, 38.891795, 38.891773, 3...</td>\n",
       "    </tr>\n",
       "  </tbody>\n",
       "</table>\n",
       "</div>"
      ],
      "text/plain": [
       "   Origin Movement ID                                Origin Display Name  \\\n",
       "0                 123  600 Independence Avenue Southeast, Southeast W...   \n",
       "\n",
       "                                     Origin Geometry  Destination Movement ID  \\\n",
       "0  [[-77.003515,38.889705],[-77.003515,38.889808]...                        7   \n",
       "\n",
       "                            Destination Display Name  \\\n",
       "0  4500 Ohio Drive Southwest, Southwest Washingto...   \n",
       "\n",
       "                                Destination Geometry  \\\n",
       "0  [[-77.064696,38.891852],[-77.064626,38.891837]...   \n",
       "\n",
       "                                          Date Range  \\\n",
       "0  01/01/2016 - 03/31/2016, Sundays, 07:00AM-09:00AM   \n",
       "\n",
       "   Mean Travel Time (Seconds)  Range - Lower Bound Travel Time (Seconds)  \\\n",
       "0                         382                                        164   \n",
       "\n",
       "   Range - Upper Bound Travel Time (Seconds)  \\\n",
       "0                                        892   \n",
       "\n",
       "                                    Origin Longitude  \\\n",
       "0  [-77.003515, -77.003515, -77.003114, -77.00258...   \n",
       "\n",
       "                                     Origin Latitude  \\\n",
       "0  [38.889705, 38.889808, 38.889807, 38.889808, 3...   \n",
       "\n",
       "                               Destination Longitude  \\\n",
       "0  [-77.064696, -77.064626, -77.06435, -77.064164...   \n",
       "\n",
       "                                Destination Latitude  \n",
       "0  [38.891852, 38.891837, 38.891795, 38.891773, 3...  "
      ]
     },
     "execution_count": 151,
     "metadata": {},
     "output_type": "execute_result"
    }
   ],
   "source": [
    "# Extract the Origin Information\n",
    "data_after_extraction = extract_origin_geodata(data,'Origin Geometry','Origin Longitude','Origin Latitude')\n",
    "data_after_extraction = extract_origin_geodata(data_after_extraction,'Destination Geometry','Destination Longitude','Destination Latitude')\n",
    "data[:1]"
   ]
  },
  {
   "cell_type": "code",
   "execution_count": 152,
   "metadata": {
    "collapsed": false
   },
   "outputs": [
    {
     "data": {
      "text/html": [
       "<div>\n",
       "<table border=\"1\" class=\"dataframe\">\n",
       "  <thead>\n",
       "    <tr style=\"text-align: right;\">\n",
       "      <th></th>\n",
       "      <th>Latitude</th>\n",
       "      <th>Longitude</th>\n",
       "      <th>Radius</th>\n",
       "    </tr>\n",
       "  </thead>\n",
       "  <tbody>\n",
       "    <tr>\n",
       "      <th>0</th>\n",
       "      <td>38.903646</td>\n",
       "      <td>-77.052080</td>\n",
       "      <td>0.015497</td>\n",
       "    </tr>\n",
       "    <tr>\n",
       "      <th>1</th>\n",
       "      <td>38.897879</td>\n",
       "      <td>-77.026263</td>\n",
       "      <td>0.012657</td>\n",
       "    </tr>\n",
       "    <tr>\n",
       "      <th>2</th>\n",
       "      <td>38.905107</td>\n",
       "      <td>-77.036653</td>\n",
       "      <td>0.012657</td>\n",
       "    </tr>\n",
       "    <tr>\n",
       "      <th>3</th>\n",
       "      <td>38.893360</td>\n",
       "      <td>-77.008867</td>\n",
       "      <td>0.017973</td>\n",
       "    </tr>\n",
       "    <tr>\n",
       "      <th>4</th>\n",
       "      <td>38.921966</td>\n",
       "      <td>-77.047168</td>\n",
       "      <td>0.018967</td>\n",
       "    </tr>\n",
       "  </tbody>\n",
       "</table>\n",
       "</div>"
      ],
      "text/plain": [
       "    Latitude  Longitude    Radius\n",
       "0  38.903646 -77.052080  0.015497\n",
       "1  38.897879 -77.026263  0.012657\n",
       "2  38.905107 -77.036653  0.012657\n",
       "3  38.893360 -77.008867  0.017973\n",
       "4  38.921966 -77.047168  0.018967"
      ]
     },
     "execution_count": 152,
     "metadata": {},
     "output_type": "execute_result"
    }
   ],
   "source": [
    "# Read the pre-defined region's data\n",
    "data_regions=pd.read_csv('DC_Cab_Pickup/CoordinateWrenches.csv')\n",
    "data_regions"
   ]
  },
  {
   "cell_type": "code",
   "execution_count": 167,
   "metadata": {
    "collapsed": false
   },
   "outputs": [
    {
     "data": {
      "text/plain": [
       "0.015496908"
      ]
     },
     "execution_count": 167,
     "metadata": {},
     "output_type": "execute_result"
    }
   ],
   "source": [
    "i=0\n",
    "region_latitude = data_regions[\"Latitude\"][i] # Read the latitude\n",
    "region_longitude = data_regions[\"Longitude\"][i] # Read the longitude\n",
    "region_radius = data_regions[\"Radius\"][i] # Read the Radius\n",
    "region_radius"
   ]
  },
  {
   "cell_type": "code",
   "execution_count": 153,
   "metadata": {
    "collapsed": true
   },
   "outputs": [],
   "source": [
    "data_region = data_regions[:1] # The data of the first region\n",
    "region_latitude = data_region[\"Latitude\"][0] # Read the latitude\n",
    "region_longitude = data_region[\"Longitude\"][0] # Read the longitude\n",
    "region_radius = data_region[\"Radius\"][0] # Read the Radius\n"
   ]
  },
  {
   "cell_type": "code",
   "execution_count": 154,
   "metadata": {
    "collapsed": true
   },
   "outputs": [],
   "source": [
    "# First we compare with the origin data as a try\n",
    "colname_longitude = 'Origin Longitude'\n",
    "colname_latitude = 'Origin Latitude'\n",
    "data_uber_longitude = data_after_extraction[colname_longitude][1]\n",
    "data_uber_latitude = data_after_extraction[colname_latitude][1]"
   ]
  },
  {
   "cell_type": "code",
   "execution_count": 159,
   "metadata": {
    "collapsed": false
   },
   "outputs": [
    {
     "data": {
      "text/plain": [
       "0.015496908"
      ]
     },
     "execution_count": 159,
     "metadata": {},
     "output_type": "execute_result"
    }
   ],
   "source": [
    "region_radius"
   ]
  },
  {
   "cell_type": "code",
   "execution_count": 182,
   "metadata": {
    "collapsed": false
   },
   "outputs": [],
   "source": [
    "def measure_geo_distance(pt1_longitude,pt1_latitude,pt2_longtide,pt2_latitude):\n",
    "    \"\"\"\n",
    "    This function compute the geo_distance between two points using Euclidean distance\n",
    "    \"\"\"\n",
    "    distance = ((pt1_longitude-pt2_longtide)**2+(pt1_latitude-pt2_latitude)**2)**0.5\n",
    "    return distance\n",
    "\n",
    "def find_centroid(data_uber, data_regions):\n",
    "    \"\"\"\n",
    "    This function find the centroid that is the closest to the origin geometry in the given uber dataset\n",
    "    \"\"\"\n",
    "    # Get the geodata of all the origins geodata in the given dataset\n",
    "    # The origins in every row in the given dataset are the same, so we can just use the first row\n",
    "    colname_longitude = 'Origin Longitude'\n",
    "    colname_latitude = 'Origin Latitude'\n",
    "    data_uber_longitude = data_uber[colname_longitude][1]\n",
    "    data_uber_latitude = data_regions[colname_latitude][1]\n",
    "    num_origins = len(data_uber_longitude) # Number of origin coordinates\n",
    "\n",
    "    # Measure the distance between all the origin coordinates and each of the centroids, find the average\n",
    "    avg_distance_origins_centroids = [] # Initialize the list to record the average distance between the origins and centroids\n",
    "    # Iterate through each centroid\n",
    "    for i in range(0,len(data_regions)): \n",
    "        # Read the Geodata of each centroid\n",
    "        region_latitude = data_regions[\"Latitude\"][i] # Read the latitude\n",
    "        region_longitude = data_regions[\"Longitude\"][i] # Read the longitude\n",
    "        region_radius = data_regions[\"Radius\"][i] # Read the Radius\n",
    "\n",
    "        # Measure the Distance between each origin coordiante with the centroid\n",
    "        distances = []\n",
    "        for j in range(0,num_origins):\n",
    "            #distance = ((data_uber_longitude[j]-region_longitude)**2+(data_uber_latitude[j]-region_latitude)**2)**0.5\n",
    "            distance = measure_geo_distance(data_uber_longitude[j],data_uber_latitude[j],region_longitude,region_latitude)\n",
    "            distances.append(distance)\n",
    "        avg_distance_origins_centroids.append(sum(distances)/len(distances))\n",
    "\n",
    "    # Find the minimum average distance between the origins and the centroids\n",
    "    min_distance = min(avg_distance_origins_centroids)\n",
    "    # Select the centroid that is the distance is cooresponding to, used that as our desired centroid\n",
    "    # Note: by using argmin, we get the index of the centroids on the dataset, and the index starts with 0\n",
    "    closest_centroid = np.argmin(avg_distance_origins_centroids)\n",
    "    return min_distance,closest_centroid"
   ]
  },
  {
   "cell_type": "code",
   "execution_count": 177,
   "metadata": {
    "collapsed": true
   },
   "outputs": [],
   "source": []
  },
  {
   "cell_type": "code",
   "execution_count": 179,
   "metadata": {
    "collapsed": false
   },
   "outputs": [
    {
     "data": {
      "text/plain": [
       "3"
      ]
     },
     "execution_count": 179,
     "metadata": {},
     "output_type": "execute_result"
    }
   ],
   "source": [
    "closest_centroid"
   ]
  },
  {
   "cell_type": "code",
   "execution_count": 180,
   "metadata": {
    "collapsed": false
   },
   "outputs": [
    {
     "data": {
      "text/plain": [
       "0.011998042578223372"
      ]
     },
     "execution_count": 180,
     "metadata": {},
     "output_type": "execute_result"
    }
   ],
   "source": [
    "min_distance"
   ]
  },
  {
   "cell_type": "code",
   "execution_count": 175,
   "metadata": {
    "collapsed": false
   },
   "outputs": [
    {
     "data": {
      "text/plain": [
       "0.017972991000000001"
      ]
     },
     "execution_count": 175,
     "metadata": {},
     "output_type": "execute_result"
    }
   ],
   "source": [
    "region_radius = data_regions[\"Radius\"][3]\n",
    "region_radius"
   ]
  },
  {
   "cell_type": "code",
   "execution_count": 158,
   "metadata": {
    "collapsed": false,
    "scrolled": true
   },
   "outputs": [
    {
     "data": {
      "text/plain": [
       "[0.050526707614082164,\n",
       " 0.050498385387840558,\n",
       " 0.050884426140801339,\n",
       " 0.051396307041827634,\n",
       " 0.051918497318189274,\n",
       " 0.053232465173227599,\n",
       " 0.05332806781328224,\n",
       " 0.053460645670602019,\n",
       " 0.053687669810842269,\n",
       " 0.054353421452736354,\n",
       " 0.054674293589207723,\n",
       " 0.055284981891999686,\n",
       " 0.055390769153877147,\n",
       " 0.056119238135408846,\n",
       " 0.056523945001199782,\n",
       " 0.05741856424118344,\n",
       " 0.057595213990038981,\n",
       " 0.058057615697319195,\n",
       " 0.058174895542650387,\n",
       " 0.058648997184596215,\n",
       " 0.058771210131306817,\n",
       " 0.058799088177780789,\n",
       " 0.05900896137163069,\n",
       " 0.059022588039485048,\n",
       " 0.059045594029181428,\n",
       " 0.059253340728076684,\n",
       " 0.059303224879418491,\n",
       " 0.059331076532102754,\n",
       " 0.059354255110805734,\n",
       " 0.059387950568425163,\n",
       " 0.059546508380584486,\n",
       " 0.059751118767248583,\n",
       " 0.059770908000288871,\n",
       " 0.059794900961024917,\n",
       " 0.060187718728807772,\n",
       " 0.060210769120627873,\n",
       " 0.060093142413911789,\n",
       " 0.05994172138967923,\n",
       " 0.059910123508953569,\n",
       " 0.059880432228050749,\n",
       " 0.059851383485583401,\n",
       " 0.059799960028904788,\n",
       " 0.059786105727984228,\n",
       " 0.059774791597944125,\n",
       " 0.0597654179098423,\n",
       " 0.058994561342035033,\n",
       " 0.056546668199982227,\n",
       " 0.055567918802649045,\n",
       " 0.054253775778257941,\n",
       " 0.052673293362747252,\n",
       " 0.05223707393143863,\n",
       " 0.051802337852434613,\n",
       " 0.051139354657822614,\n",
       " 0.05137393412322834,\n",
       " 0.051675109248247274,\n",
       " 0.05213158257158422,\n",
       " 0.05229844792895566,\n",
       " 0.052551678406105549,\n",
       " 0.052526736398888378,\n",
       " 0.052257757225870942,\n",
       " 0.052235156965762461,\n",
       " 0.052098495556962623,\n",
       " 0.050677570950459216,\n",
       " 0.050526707614082164]"
      ]
     },
     "execution_count": 158,
     "metadata": {},
     "output_type": "execute_result"
    }
   ],
   "source": [
    "count = 0\n",
    "distances = []\n",
    "for i in range(0,len(data_uber_longitude)):\n",
    "    distance = ((data_uber_longitude[i]-region_longitude)**2+(data_uber_latitude[i]-region_latitude)**2)**0.5\n",
    "    distances.append(distance)\n",
    "    #count = count+(distance<=region_radius)\n",
    "#count\n",
    "distances"
   ]
  },
  {
   "cell_type": "code",
   "execution_count": 136,
   "metadata": {
    "collapsed": false
   },
   "outputs": [],
   "source": [
    "def read_all_Uber_data():\n",
    "    \"\"\"\n",
    "    This function load all the Uber data in the folder and merge them together into one data frame\n",
    "    \"\"\"\n",
    "    # Read in all the dataset\n",
    "    data_file_paths = glob.glob(\"DC_Uber_Data/Uber_DC*\")\n",
    "    \n",
    "    all_data = []\n",
    "    for fname in data_file_paths: # Read file name\n",
    "        data= pd.read_csv(fname)\n",
    "        all_data.append(data)\n",
    "        # Find column names\n",
    "        # list(data)\n",
    "\n",
    "    # Merge all the datasets and store in one dataframe called data_merge\n",
    "    data_merge = all_data[0]\n",
    "    for i in range(1,len(all_data)):\n",
    "        next_data = all_data[i]\n",
    "        frames = [data_merge,next_data]\n",
    "        data_merge = pd.concat(frames)\n",
    "    return data_merge\n",
    "\n",
    "\n",
    "def extract_time_data(data):\n",
    "    \"\"\"\n",
    "    This function extract the time data including the Months, Day of Week, and Hour of Day\n",
    "    \"\"\"\n",
    "    Months = []\n",
    "    Weekdays = []\n",
    "    Times = []\n",
    "    for line in data[colnames[6]]:\n",
    "        array = line.split(',')\n",
    "        Month = array[0]\n",
    "        Weekday = array[1]\n",
    "        Time = array[2]\n",
    "\n",
    "        Months.append(Month)\n",
    "        Weekdays.append(Weekday)\n",
    "        Times.append(Time)\n",
    "    data['Months']= Months\n",
    "    data['Weekdays'] = Weekdays\n",
    "    data['Times'] = Times\n",
    "    return data"
   ]
  },
  {
   "cell_type": "code",
   "execution_count": 148,
   "metadata": {
    "collapsed": false
   },
   "outputs": [],
   "source": [
    "def extract_origin_geodata(data,colname,new_colname_longitude,new_colname_latitude):\n",
    "    \"\"\"\n",
    "    This function read all the original longitudes and latitudes and store in two new columns.\n",
    "    Instead of writing two functions to reach the origin and destination geometry data respectively, I just wrote one\n",
    "    to be used in both scenario\n",
    "    data: the Uber Movement Dataset\n",
    "    colname: the name of the column that store the geodata: 'Origin Geometry' / 'Desination Geometry'\n",
    "    new_colname_longitude: the name for the new column that stores the extracted longitude information\n",
    "    new_colname_latitude: the name for the new column that stores the extracted latitude information\n",
    "    \"\"\"\n",
    "    rows_longitudes = [] # Store the longitude info of each row\n",
    "    rows_latitudes = [] # Store the latitude info of each row\n",
    "\n",
    "    # Read the Destination Geometry data from each line\n",
    "    for line in data[colname]: # The index is subject to change when we merged multiple dataset together\n",
    "        longitudes = [] # Record the longitudes in each row\n",
    "        latitudes = [] # Record the latitudes in each row\n",
    "\n",
    "        array = re.split(r'[|[|,|]',line) # Split the cell contents\n",
    "        # First two components are negligible, every three units (as a pack) after contain: longitutde, latitutde, and null. \n",
    "        # Each latitude contains a ']' in the end\n",
    "        # The last latitutde contains 2 ']'s\n",
    "        # The last pack contains only two units: a longitude, and a latitutde\n",
    "        total_coords = int((len(array)-2+1)/3); # Find the total number of pairs of longitudes and latitudes\n",
    "        for i in range(0,total_coords): # Loop until the second last \n",
    "            longitudes.append(float(array[i*3+2]))\n",
    "            latitude_pieces = array[i*3+3].split(']')\n",
    "            latitudes.append(float(latitude_pieces[0]))\n",
    "        rows_longitudes.append(longitudes)\n",
    "        rows_latitudes.append(latitudes)\n",
    "    data[new_colname_longitude] = rows_longitudes # Add one more column for destination longitudes\n",
    "    data[new_colname_latitude]= rows_latitudes # Add one more column for destination latitudes\n",
    "    \n",
    "    # To read the first destination longitude of the first row:\n",
    "    # data['dest_longtitudes'][0][0]\n",
    "    return data"
   ]
  },
  {
   "cell_type": "code",
   "execution_count": 6,
   "metadata": {
    "collapsed": false
   },
   "outputs": [],
   "source": [
    "# Read all the Uber data in Washington DC, merge into a data frame, and return the dataframe\n",
    "data = read_all_Uber_data()\n",
    "# Save data in a csv\n",
    "# data.to_csv(\"DC_Data/Uber_All.csv\")"
   ]
  },
  {
   "cell_type": "code",
   "execution_count": 65,
   "metadata": {
    "collapsed": true
   },
   "outputs": [],
   "source": [
    "data= pd.read_csv(\"DC_Data/Uber_All.csv\")\n",
    "data = data.drop('Unnamed: 0', 1) # Drop a unuseful column for index"
   ]
  },
  {
   "cell_type": "code",
   "execution_count": 7,
   "metadata": {
    "collapsed": false
   },
   "outputs": [
    {
     "data": {
      "text/plain": [
       "(1030, 10)"
      ]
     },
     "execution_count": 7,
     "metadata": {},
     "output_type": "execute_result"
    }
   ],
   "source": [
    "# Find the data dimension\n",
    "data.shape"
   ]
  },
  {
   "cell_type": "code",
   "execution_count": 81,
   "metadata": {
    "collapsed": false
   },
   "outputs": [],
   "source": [
    "data.to_csv(\"DC_Data/Uber_All_processed.csv\")"
   ]
  }
 ],
 "metadata": {
  "anaconda-cloud": {},
  "kernelspec": {
   "display_name": "Python [conda root]",
   "language": "python",
   "name": "conda-root-py"
  },
  "language_info": {
   "codemirror_mode": {
    "name": "ipython",
    "version": 3
   },
   "file_extension": ".py",
   "mimetype": "text/x-python",
   "name": "python",
   "nbconvert_exporter": "python",
   "pygments_lexer": "ipython3",
   "version": "3.5.2"
  }
 },
 "nbformat": 4,
 "nbformat_minor": 1
}
