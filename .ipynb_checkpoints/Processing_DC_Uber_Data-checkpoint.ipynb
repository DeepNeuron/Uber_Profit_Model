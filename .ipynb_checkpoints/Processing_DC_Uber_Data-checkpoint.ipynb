{
 "cells": [
  {
   "cell_type": "code",
   "execution_count": 1,
   "metadata": {
    "collapsed": true
   },
   "outputs": [],
   "source": [
    "import numpy as np\n",
    "import cv2\n",
    "import matplotlib.pyplot as plt\n",
    "import matplotlib.image as mpimg\n",
    "%matplotlib inline\n",
    "import glob\n",
    "import csv\n",
    "import pandas as pd\n",
    "import re"
   ]
  },
  {
   "cell_type": "code",
   "execution_count": 144,
   "metadata": {
    "collapsed": false,
    "scrolled": false
   },
   "outputs": [
    {
     "data": {
      "text/html": [
       "<div>\n",
       "<table border=\"1\" class=\"dataframe\">\n",
       "  <thead>\n",
       "    <tr style=\"text-align: right;\">\n",
       "      <th></th>\n",
       "      <th>Origin Movement ID</th>\n",
       "      <th>Origin Display Name</th>\n",
       "      <th>Origin Geometry</th>\n",
       "      <th>Destination Movement ID</th>\n",
       "      <th>Destination Display Name</th>\n",
       "      <th>Destination Geometry</th>\n",
       "      <th>Date Range</th>\n",
       "      <th>Mean Travel Time (Seconds)</th>\n",
       "      <th>Range - Lower Bound Travel Time (Seconds)</th>\n",
       "      <th>Range - Upper Bound Travel Time (Seconds)</th>\n",
       "    </tr>\n",
       "  </thead>\n",
       "  <tbody>\n",
       "    <tr>\n",
       "      <th>0</th>\n",
       "      <td>123</td>\n",
       "      <td>600 Independence Avenue Southeast, Southeast W...</td>\n",
       "      <td>[[-77.003515,38.889705],[-77.003515,38.889808]...</td>\n",
       "      <td>7</td>\n",
       "      <td>4500 Ohio Drive Southwest, Southwest Washingto...</td>\n",
       "      <td>[[-77.064696,38.891852],[-77.064626,38.891837]...</td>\n",
       "      <td>01/01/2016 - 03/31/2016, Sundays, 07:00AM-09:00AM</td>\n",
       "      <td>382</td>\n",
       "      <td>164</td>\n",
       "      <td>892</td>\n",
       "    </tr>\n",
       "  </tbody>\n",
       "</table>\n",
       "</div>"
      ],
      "text/plain": [
       "   Origin Movement ID                                Origin Display Name  \\\n",
       "0                 123  600 Independence Avenue Southeast, Southeast W...   \n",
       "\n",
       "                                     Origin Geometry  Destination Movement ID  \\\n",
       "0  [[-77.003515,38.889705],[-77.003515,38.889808]...                        7   \n",
       "\n",
       "                            Destination Display Name  \\\n",
       "0  4500 Ohio Drive Southwest, Southwest Washingto...   \n",
       "\n",
       "                                Destination Geometry  \\\n",
       "0  [[-77.064696,38.891852],[-77.064626,38.891837]...   \n",
       "\n",
       "                                          Date Range  \\\n",
       "0  01/01/2016 - 03/31/2016, Sundays, 07:00AM-09:00AM   \n",
       "\n",
       "   Mean Travel Time (Seconds)  Range - Lower Bound Travel Time (Seconds)  \\\n",
       "0                         382                                        164   \n",
       "\n",
       "   Range - Upper Bound Travel Time (Seconds)  \n",
       "0                                        892  "
      ]
     },
     "execution_count": 144,
     "metadata": {},
     "output_type": "execute_result"
    }
   ],
   "source": [
    "data= pd.read_csv(\"DC_Uber_Data/Uber_DC_R1_Sun_7_9.csv\")\n",
    "data[:1]"
   ]
  },
  {
   "cell_type": "code",
   "execution_count": 147,
   "metadata": {
    "collapsed": false
   },
   "outputs": [
    {
     "data": {
      "text/html": [
       "<div>\n",
       "<table border=\"1\" class=\"dataframe\">\n",
       "  <thead>\n",
       "    <tr style=\"text-align: right;\">\n",
       "      <th></th>\n",
       "      <th>Origin Movement ID</th>\n",
       "      <th>Origin Display Name</th>\n",
       "      <th>Origin Geometry</th>\n",
       "      <th>Destination Movement ID</th>\n",
       "      <th>Destination Display Name</th>\n",
       "      <th>Destination Geometry</th>\n",
       "      <th>Date Range</th>\n",
       "      <th>Mean Travel Time (Seconds)</th>\n",
       "      <th>Range - Lower Bound Travel Time (Seconds)</th>\n",
       "      <th>Range - Upper Bound Travel Time (Seconds)</th>\n",
       "      <th>Origin Longitude</th>\n",
       "      <th>Origin Latitude</th>\n",
       "      <th>Destination Longitude</th>\n",
       "      <th>Destination Latitude</th>\n",
       "    </tr>\n",
       "  </thead>\n",
       "  <tbody>\n",
       "    <tr>\n",
       "      <th>0</th>\n",
       "      <td>123</td>\n",
       "      <td>600 Independence Avenue Southeast, Southeast W...</td>\n",
       "      <td>[[-77.003515,38.889705],[-77.003515,38.889808]...</td>\n",
       "      <td>7</td>\n",
       "      <td>4500 Ohio Drive Southwest, Southwest Washingto...</td>\n",
       "      <td>[[-77.064696,38.891852],[-77.064626,38.891837]...</td>\n",
       "      <td>01/01/2016 - 03/31/2016, Sundays, 07:00AM-09:00AM</td>\n",
       "      <td>382</td>\n",
       "      <td>164</td>\n",
       "      <td>892</td>\n",
       "      <td>[-77.064696, -77.064626, -77.06435, -77.064164...</td>\n",
       "      <td>[38.891852, 38.891837, 38.891795, 38.891773, 3...</td>\n",
       "      <td>[-77.064696, -77.064626, -77.06435, -77.064164...</td>\n",
       "      <td>[38.891852, 38.891837, 38.891795, 38.891773, 3...</td>\n",
       "    </tr>\n",
       "    <tr>\n",
       "      <th>1</th>\n",
       "      <td>123</td>\n",
       "      <td>600 Independence Avenue Southeast, Southeast W...</td>\n",
       "      <td>[[-77.003515,38.889705],[-77.003515,38.889808]...</td>\n",
       "      <td>8</td>\n",
       "      <td>0 H Street Northwest, Northwest Washington, Wa...</td>\n",
       "      <td>[[-77.021918,38.902521],[-77.021515,38.902521]...</td>\n",
       "      <td>01/01/2016 - 03/31/2016, Sundays, 07:00AM-09:00AM</td>\n",
       "      <td>562</td>\n",
       "      <td>297</td>\n",
       "      <td>1061</td>\n",
       "      <td>[-77.021918, -77.021515, -77.019907, -77.01949...</td>\n",
       "      <td>[38.902521, 38.902521, 38.902521, 38.90252, 38...</td>\n",
       "      <td>[-77.021918, -77.021515, -77.019907, -77.01949...</td>\n",
       "      <td>[38.902521, 38.902521, 38.902521, 38.90252, 38...</td>\n",
       "    </tr>\n",
       "    <tr>\n",
       "      <th>2</th>\n",
       "      <td>123</td>\n",
       "      <td>600 Independence Avenue Southeast, Southeast W...</td>\n",
       "      <td>[[-77.003515,38.889705],[-77.003515,38.889808]...</td>\n",
       "      <td>10</td>\n",
       "      <td>1500 30th Street Northwest, Northwest Washingt...</td>\n",
       "      <td>[[-77.069269,38.900582],[-77.068723,38.901015]...</td>\n",
       "      <td>01/01/2016 - 03/31/2016, Sundays, 07:00AM-09:00AM</td>\n",
       "      <td>877</td>\n",
       "      <td>677</td>\n",
       "      <td>1137</td>\n",
       "      <td>[-77.069269, -77.068723, -77.063071, -77.06275...</td>\n",
       "      <td>[38.900582, 38.901015, 38.901484, 38.902037, 3...</td>\n",
       "      <td>[-77.069269, -77.068723, -77.063071, -77.06275...</td>\n",
       "      <td>[38.900582, 38.901015, 38.901484, 38.902037, 3...</td>\n",
       "    </tr>\n",
       "  </tbody>\n",
       "</table>\n",
       "</div>"
      ],
      "text/plain": [
       "   Origin Movement ID                                Origin Display Name  \\\n",
       "0                 123  600 Independence Avenue Southeast, Southeast W...   \n",
       "1                 123  600 Independence Avenue Southeast, Southeast W...   \n",
       "2                 123  600 Independence Avenue Southeast, Southeast W...   \n",
       "\n",
       "                                     Origin Geometry  Destination Movement ID  \\\n",
       "0  [[-77.003515,38.889705],[-77.003515,38.889808]...                        7   \n",
       "1  [[-77.003515,38.889705],[-77.003515,38.889808]...                        8   \n",
       "2  [[-77.003515,38.889705],[-77.003515,38.889808]...                       10   \n",
       "\n",
       "                            Destination Display Name  \\\n",
       "0  4500 Ohio Drive Southwest, Southwest Washingto...   \n",
       "1  0 H Street Northwest, Northwest Washington, Wa...   \n",
       "2  1500 30th Street Northwest, Northwest Washingt...   \n",
       "\n",
       "                                Destination Geometry  \\\n",
       "0  [[-77.064696,38.891852],[-77.064626,38.891837]...   \n",
       "1  [[-77.021918,38.902521],[-77.021515,38.902521]...   \n",
       "2  [[-77.069269,38.900582],[-77.068723,38.901015]...   \n",
       "\n",
       "                                          Date Range  \\\n",
       "0  01/01/2016 - 03/31/2016, Sundays, 07:00AM-09:00AM   \n",
       "1  01/01/2016 - 03/31/2016, Sundays, 07:00AM-09:00AM   \n",
       "2  01/01/2016 - 03/31/2016, Sundays, 07:00AM-09:00AM   \n",
       "\n",
       "   Mean Travel Time (Seconds)  Range - Lower Bound Travel Time (Seconds)  \\\n",
       "0                         382                                        164   \n",
       "1                         562                                        297   \n",
       "2                         877                                        677   \n",
       "\n",
       "   Range - Upper Bound Travel Time (Seconds)  \\\n",
       "0                                        892   \n",
       "1                                       1061   \n",
       "2                                       1137   \n",
       "\n",
       "                                    Origin Longitude  \\\n",
       "0  [-77.064696, -77.064626, -77.06435, -77.064164...   \n",
       "1  [-77.021918, -77.021515, -77.019907, -77.01949...   \n",
       "2  [-77.069269, -77.068723, -77.063071, -77.06275...   \n",
       "\n",
       "                                     Origin Latitude  \\\n",
       "0  [38.891852, 38.891837, 38.891795, 38.891773, 3...   \n",
       "1  [38.902521, 38.902521, 38.902521, 38.90252, 38...   \n",
       "2  [38.900582, 38.901015, 38.901484, 38.902037, 3...   \n",
       "\n",
       "                               Destination Longitude  \\\n",
       "0  [-77.064696, -77.064626, -77.06435, -77.064164...   \n",
       "1  [-77.021918, -77.021515, -77.019907, -77.01949...   \n",
       "2  [-77.069269, -77.068723, -77.063071, -77.06275...   \n",
       "\n",
       "                                Destination Latitude  \n",
       "0  [38.891852, 38.891837, 38.891795, 38.891773, 3...  \n",
       "1  [38.902521, 38.902521, 38.902521, 38.90252, 38...  \n",
       "2  [38.900582, 38.901015, 38.901484, 38.902037, 3...  "
      ]
     },
     "execution_count": 147,
     "metadata": {},
     "output_type": "execute_result"
    }
   ],
   "source": [
    "# Extract the Origin Information\n",
    "data_after_extraction = extract_origin_geodata(data,'Origin Geometry','Origin Longitude','Origin Latitude')\n",
    "data_after_extraction = extract_origin_geodata(data_after_extraction,'Destination Geometry','Destination Longitude','Destination Latitude')\n",
    "data[:3]"
   ]
  },
  {
   "cell_type": "code",
   "execution_count": 137,
   "metadata": {
    "collapsed": false
   },
   "outputs": [],
   "source": [
    "data = extract_origin_geodata(data)"
   ]
  },
  {
   "cell_type": "code",
   "execution_count": 139,
   "metadata": {
    "collapsed": false
   },
   "outputs": [
    {
     "data": {
      "text/html": [
       "<div>\n",
       "<table border=\"1\" class=\"dataframe\">\n",
       "  <thead>\n",
       "    <tr style=\"text-align: right;\">\n",
       "      <th></th>\n",
       "      <th>Origin Movement ID</th>\n",
       "      <th>Origin Display Name</th>\n",
       "      <th>Origin Geometry</th>\n",
       "      <th>Destination Movement ID</th>\n",
       "      <th>Destination Display Name</th>\n",
       "      <th>Destination Geometry</th>\n",
       "      <th>Date Range</th>\n",
       "      <th>Mean Travel Time (Seconds)</th>\n",
       "      <th>Range - Lower Bound Travel Time (Seconds)</th>\n",
       "      <th>Range - Upper Bound Travel Time (Seconds)</th>\n",
       "      <th>dest_longtitudes</th>\n",
       "      <th>dest_latitudes</th>\n",
       "      <th>Origin_latitudes</th>\n",
       "      <th>Origin_longtitudes</th>\n",
       "    </tr>\n",
       "  </thead>\n",
       "  <tbody>\n",
       "    <tr>\n",
       "      <th>0</th>\n",
       "      <td>123</td>\n",
       "      <td>600 Independence Avenue Southeast, Southeast W...</td>\n",
       "      <td>[[-77.003515,38.889705],[-77.003515,38.889808]...</td>\n",
       "      <td>7</td>\n",
       "      <td>4500 Ohio Drive Southwest, Southwest Washingto...</td>\n",
       "      <td>[[-77.064696,38.891852],[-77.064626,38.891837]...</td>\n",
       "      <td>01/01/2016 - 03/31/2016, Sundays, 07:00AM-09:00AM</td>\n",
       "      <td>382</td>\n",
       "      <td>164</td>\n",
       "      <td>892</td>\n",
       "      <td>[-77.064696, -77.064626, -77.06435, -77.064164...</td>\n",
       "      <td>[38.891852, 38.891837, 38.891795, 38.891773, 3...</td>\n",
       "      <td>38.889808</td>\n",
       "      <td>-77.003515</td>\n",
       "    </tr>\n",
       "  </tbody>\n",
       "</table>\n",
       "</div>"
      ],
      "text/plain": [
       "   Origin Movement ID                                Origin Display Name  \\\n",
       "0                 123  600 Independence Avenue Southeast, Southeast W...   \n",
       "\n",
       "                                     Origin Geometry  Destination Movement ID  \\\n",
       "0  [[-77.003515,38.889705],[-77.003515,38.889808]...                        7   \n",
       "\n",
       "                            Destination Display Name  \\\n",
       "0  4500 Ohio Drive Southwest, Southwest Washingto...   \n",
       "\n",
       "                                Destination Geometry  \\\n",
       "0  [[-77.064696,38.891852],[-77.064626,38.891837]...   \n",
       "\n",
       "                                          Date Range  \\\n",
       "0  01/01/2016 - 03/31/2016, Sundays, 07:00AM-09:00AM   \n",
       "\n",
       "   Mean Travel Time (Seconds)  Range - Lower Bound Travel Time (Seconds)  \\\n",
       "0                         382                                        164   \n",
       "\n",
       "   Range - Upper Bound Travel Time (Seconds)  \\\n",
       "0                                        892   \n",
       "\n",
       "                                    dest_longtitudes  \\\n",
       "0  [-77.064696, -77.064626, -77.06435, -77.064164...   \n",
       "\n",
       "                                      dest_latitudes Origin_latitudes  \\\n",
       "0  [38.891852, 38.891837, 38.891795, 38.891773, 3...        38.889808   \n",
       "\n",
       "  Origin_longtitudes  \n",
       "0         -77.003515  "
      ]
     },
     "execution_count": 139,
     "metadata": {},
     "output_type": "execute_result"
    }
   ],
   "source": [
    "data[:1]"
   ]
  },
  {
   "cell_type": "code",
   "execution_count": 126,
   "metadata": {
    "collapsed": false
   },
   "outputs": [
    {
     "data": {
      "text/html": [
       "<div>\n",
       "<table border=\"1\" class=\"dataframe\">\n",
       "  <thead>\n",
       "    <tr style=\"text-align: right;\">\n",
       "      <th></th>\n",
       "      <th>Latitude</th>\n",
       "      <th>Longitude</th>\n",
       "      <th>Radius</th>\n",
       "    </tr>\n",
       "  </thead>\n",
       "  <tbody>\n",
       "    <tr>\n",
       "      <th>0</th>\n",
       "      <td>38.903646</td>\n",
       "      <td>-77.052080</td>\n",
       "      <td>0.015497</td>\n",
       "    </tr>\n",
       "    <tr>\n",
       "      <th>1</th>\n",
       "      <td>38.897879</td>\n",
       "      <td>-77.026263</td>\n",
       "      <td>0.012657</td>\n",
       "    </tr>\n",
       "    <tr>\n",
       "      <th>2</th>\n",
       "      <td>38.905107</td>\n",
       "      <td>-77.036653</td>\n",
       "      <td>0.012657</td>\n",
       "    </tr>\n",
       "    <tr>\n",
       "      <th>3</th>\n",
       "      <td>38.893360</td>\n",
       "      <td>-77.008867</td>\n",
       "      <td>0.017973</td>\n",
       "    </tr>\n",
       "    <tr>\n",
       "      <th>4</th>\n",
       "      <td>38.921966</td>\n",
       "      <td>-77.047168</td>\n",
       "      <td>0.018967</td>\n",
       "    </tr>\n",
       "  </tbody>\n",
       "</table>\n",
       "</div>"
      ],
      "text/plain": [
       "    Latitude  Longitude    Radius\n",
       "0  38.903646 -77.052080  0.015497\n",
       "1  38.897879 -77.026263  0.012657\n",
       "2  38.905107 -77.036653  0.012657\n",
       "3  38.893360 -77.008867  0.017973\n",
       "4  38.921966 -77.047168  0.018967"
      ]
     },
     "execution_count": 126,
     "metadata": {},
     "output_type": "execute_result"
    }
   ],
   "source": [
    "# Read the pre-defined region's data\n",
    "data_regions=pd.read_csv('DC_Cab_Pickup/CoordinateWrenches.csv')\n",
    "data_regions"
   ]
  },
  {
   "cell_type": "code",
   "execution_count": 132,
   "metadata": {
    "collapsed": false
   },
   "outputs": [],
   "source": [
    "data_region = data_regions[:1] # The data of the first region\n",
    "region_latitude = data_region[\"Latitude\"][0] # Read the latitude\n",
    "region_longitude = data_region[\"Longitude\"][0] # Read the longitude\n",
    "region_radius = data_region[\"Radius\"][0] # Read the Radius"
   ]
  },
  {
   "cell_type": "code",
   "execution_count": null,
   "metadata": {
    "collapsed": true
   },
   "outputs": [],
   "source": [
    "# First test on the origin geodata\n",
    "uber_latitudes = "
   ]
  },
  {
   "cell_type": "code",
   "execution_count": 117,
   "metadata": {
    "collapsed": false
   },
   "outputs": [],
   "source": [
    "def read_destination_geodata(data)\n",
    "    \"\"\"\n",
    "    This function read all the destination longitudes and latitudes and store in two new columns\n",
    "    \"\"\"\n",
    "    rows_dest_longitudes = []\n",
    "    rows_dest_latitudes = []\n",
    "\n",
    "    # Read the Destination Geometry data from each line\n",
    "    for line in data['Destination Geometry']: # The index is subject to change when we merged multiple dataset together\n",
    "        dest_longitudes = [] # Record the destination longitudes in each row\n",
    "        dest_latitudes = [] # Record the destination latitudes in each row\n",
    "\n",
    "        array = re.split(r'[|[|,|]',line) # Split the cell contents\n",
    "        # First two components are negligible, every three units (as a pack) after contain: longitutde, latitutde, and null. \n",
    "        # Each latitude contains a ']' in the end\n",
    "        # The last latitutde contains 2 ']'s\n",
    "        # The last pack contains only two units: a longitude, and a latitutde\n",
    "        total_dest_coords = int((len(array)-2+1)/3); # Find the total number of pairs of longitudes and latitudes\n",
    "        for i in range(0,total_dest_coords): # Loop until the second last \n",
    "            dest_longitudes.append(float(array[i*3+2]))\n",
    "            latitude_pieces = array[i*3+3].split(']')\n",
    "            dest_latitudes.append(float(latitude_pieces[0]))\n",
    "        rows_dest_longitudes.append(dest_longitudes);\n",
    "        rows_dest_latitudes.append(dest_latitudes);\n",
    "    data['dest_longtitudes'] = rows_dest_longitudes # Add one more column for destination longitudes\n",
    "    data['dest_latitudes']= rows_dest_latitudes # Add one more column for destination latitudes\n",
    "    \n",
    "    # To read the first destination longitude of the first row:\n",
    "    # data['dest_longtitudes'][0][0]\n",
    "    return data"
   ]
  },
  {
   "cell_type": "code",
   "execution_count": null,
   "metadata": {
    "collapsed": true
   },
   "outputs": [],
   "source": []
  },
  {
   "cell_type": "code",
   "execution_count": 136,
   "metadata": {
    "collapsed": false
   },
   "outputs": [],
   "source": [
    "def read_all_Uber_data():\n",
    "    \"\"\"\n",
    "    This function load all the Uber data in the folder and merge them together into one data frame\n",
    "    \"\"\"\n",
    "    # Read in all the dataset\n",
    "    data_file_paths = glob.glob(\"DC_Uber_Data/Uber_DC*\")\n",
    "    \n",
    "    all_data = []\n",
    "    for fname in data_file_paths: # Read file name\n",
    "        data= pd.read_csv(fname)\n",
    "        all_data.append(data)\n",
    "        # Find column names\n",
    "        # list(data)\n",
    "\n",
    "    # Merge all the datasets and store in one dataframe called data_merge\n",
    "    data_merge = all_data[0]\n",
    "    for i in range(1,len(all_data)):\n",
    "        next_data = all_data[i]\n",
    "        frames = [data_merge,next_data]\n",
    "        data_merge = pd.concat(frames)\n",
    "    return data_merge\n",
    "\n",
    "def extract_origin_geodata(data):\n",
    "    \"\"\"\n",
    "    This function extract the Latitudes and Longitude of the origin district\n",
    "    \"\"\"\n",
    "    longtitudes = []\n",
    "    latitudes = []\n",
    "    for line in data['Origin Geometry']:\n",
    "        array = line.split(',')\n",
    "        item = array[2]\n",
    "        longtitude = item[1:]\n",
    "        #first_item = first_item.split('[')\n",
    "        item = array[3]\n",
    "        latitutde = item[:-1]\n",
    "        longtitudes.append(longtitude)\n",
    "        latitudes.append(latitutde)\n",
    "    data['Origin_latitudes']= latitudes\n",
    "    data['Origin_longtitudes'] = longtitudes\n",
    "    return data\n",
    "\n",
    "def extract_time_data(data):\n",
    "    \"\"\"\n",
    "    This function extract the time data including the Months, Day of Week, and Hour of Day\n",
    "    \"\"\"\n",
    "    Months = []\n",
    "    Weekdays = []\n",
    "    Times = []\n",
    "    for line in data[colnames[6]]:\n",
    "        array = line.split(',')\n",
    "        Month = array[0]\n",
    "        Weekday = array[1]\n",
    "        Time = array[2]\n",
    "\n",
    "        Months.append(Month)\n",
    "        Weekdays.append(Weekday)\n",
    "        Times.append(Time)\n",
    "    data['Months']= Months\n",
    "    data['Weekdays'] = Weekdays\n",
    "    data['Times'] = Times\n",
    "    return data"
   ]
  },
  {
   "cell_type": "code",
   "execution_count": 143,
   "metadata": {
    "collapsed": false
   },
   "outputs": [],
   "source": [
    "def extract_origin_geodata(data,colname,new_colname_longitude,new_colname_latitude):\n",
    "    \"\"\"\n",
    "    This function read all the original longitudes and latitudes and store in two new columns.\n",
    "    Instead of writing two functions to reach the origin and destination geometry data respectively, I just wrote one\n",
    "    to be used in both scenario\n",
    "    data: the Uber Movement Dataset\n",
    "    colname: the name of the column that store the geodata: 'Origin Geometry' / 'Desination Geometry'\n",
    "    new_colname_longitude: the name for the new column that stores the extracted longitude information\n",
    "    new_colname_latitude: the name for the new column that stores the extracted latitude information\n",
    "    \"\"\"\n",
    "    rows_longitudes = [] # Store the longitude info of each row\n",
    "    rows_latitudes = [] # Store the latitude info of each row\n",
    "\n",
    "    # Read the Destination Geometry data from each line\n",
    "    for line in data[colname]: # The index is subject to change when we merged multiple dataset together\n",
    "        longitudes = [] # Record the longitudes in each row\n",
    "        latitudes = [] # Record the latitudes in each row\n",
    "\n",
    "        array = re.split(r'[|[|,|]',line) # Split the cell contents\n",
    "        # First two components are negligible, every three units (as a pack) after contain: longitutde, latitutde, and null. \n",
    "        # Each latitude contains a ']' in the end\n",
    "        # The last latitutde contains 2 ']'s\n",
    "        # The last pack contains only two units: a longitude, and a latitutde\n",
    "        total_coords = int((len(array)-2+1)/3); # Find the total number of pairs of longitudes and latitudes\n",
    "        for i in range(0,total_coords): # Loop until the second last \n",
    "            longitudes.append(float(array[i*3+2]))\n",
    "            latitude_pieces = array[i*3+3].split(']')\n",
    "            latitudes.append(float(latitude_pieces[0]))\n",
    "        rows_longitudes.append(longitudes);\n",
    "        rows_latitudes.append(latitudes);\n",
    "    data[new_colname_longitude] = rows_longitudes # Add one more column for destination longitudes\n",
    "    data[new_colname_latitude]= rows_latitudes # Add one more column for destination latitudes\n",
    "    \n",
    "    # To read the first destination longitude of the first row:\n",
    "    # data['dest_longtitudes'][0][0]\n",
    "    return data"
   ]
  },
  {
   "cell_type": "code",
   "execution_count": 6,
   "metadata": {
    "collapsed": false
   },
   "outputs": [],
   "source": [
    "# Read all the Uber data in Washington DC, merge into a data frame, and return the dataframe\n",
    "data = read_all_Uber_data()\n",
    "# Save data in a csv\n",
    "# data.to_csv(\"DC_Data/Uber_All.csv\")"
   ]
  },
  {
   "cell_type": "code",
   "execution_count": 65,
   "metadata": {
    "collapsed": true
   },
   "outputs": [],
   "source": [
    "data= pd.read_csv(\"DC_Data/Uber_All.csv\")\n",
    "data = data.drop('Unnamed: 0', 1) # Drop a unuseful column for index"
   ]
  },
  {
   "cell_type": "code",
   "execution_count": 7,
   "metadata": {
    "collapsed": false
   },
   "outputs": [
    {
     "data": {
      "text/plain": [
       "(1030, 10)"
      ]
     },
     "execution_count": 7,
     "metadata": {},
     "output_type": "execute_result"
    }
   ],
   "source": [
    "# Find the data dimension\n",
    "data.shape"
   ]
  },
  {
   "cell_type": "code",
   "execution_count": 10,
   "metadata": {
    "collapsed": false
   },
   "outputs": [
    {
     "data": {
      "text/plain": [
       "['Origin Movement ID',\n",
       " 'Origin Display Name',\n",
       " 'Origin Geometry',\n",
       " 'Destination Movement ID',\n",
       " 'Destination Display Name',\n",
       " 'Destination Geometry',\n",
       " 'Date Range',\n",
       " 'Mean Travel Time (Seconds)',\n",
       " 'Range - Lower Bound Travel Time (Seconds)',\n",
       " 'Range - Upper Bound Travel Time (Seconds)']"
      ]
     },
     "execution_count": 10,
     "metadata": {},
     "output_type": "execute_result"
    }
   ],
   "source": [
    "# Find the data columns\n",
    "colnames = list(data)\n",
    "colnames"
   ]
  },
  {
   "cell_type": "code",
   "execution_count": 81,
   "metadata": {
    "collapsed": false
   },
   "outputs": [],
   "source": [
    "data.to_csv(\"DC_Data/Uber_All_processed.csv\")"
   ]
  },
  {
   "cell_type": "code",
   "execution_count": 13,
   "metadata": {
    "collapsed": false
   },
   "outputs": [
    {
     "data": {
      "text/html": [
       "<div>\n",
       "<table border=\"1\" class=\"dataframe\">\n",
       "  <thead>\n",
       "    <tr style=\"text-align: right;\">\n",
       "      <th></th>\n",
       "      <th>Origin Movement ID</th>\n",
       "      <th>Origin Display Name</th>\n",
       "      <th>Origin Geometry</th>\n",
       "      <th>Destination Movement ID</th>\n",
       "      <th>Destination Display Name</th>\n",
       "      <th>Destination Geometry</th>\n",
       "      <th>Date Range</th>\n",
       "      <th>Mean Travel Time (Seconds)</th>\n",
       "      <th>Range - Lower Bound Travel Time (Seconds)</th>\n",
       "      <th>Range - Upper Bound Travel Time (Seconds)</th>\n",
       "      <th>latitudes</th>\n",
       "      <th>longtitudes</th>\n",
       "      <th>Months</th>\n",
       "      <th>Weekdays</th>\n",
       "      <th>Times</th>\n",
       "    </tr>\n",
       "  </thead>\n",
       "  <tbody>\n",
       "    <tr>\n",
       "      <th>0</th>\n",
       "      <td>123</td>\n",
       "      <td>600 Independence Avenue Southeast, Southeast W...</td>\n",
       "      <td>[[-77.003515,38.889705],[-77.003515,38.889808]...</td>\n",
       "      <td>1</td>\n",
       "      <td>5400 Arnold Avenue Southwest, Southwest Washin...</td>\n",
       "      <td>[[-77.048009,38.841266],[-77.047969,38.841267]...</td>\n",
       "      <td>01/01/2016 - 03/31/2016, Sundays, 12:00AM-02:00AM</td>\n",
       "      <td>504</td>\n",
       "      <td>415</td>\n",
       "      <td>612</td>\n",
       "      <td>38.841267</td>\n",
       "      <td>-77.047969</td>\n",
       "      <td>01/01/2016 - 03/31/2016</td>\n",
       "      <td>Sundays</td>\n",
       "      <td>12:00AM-02:00AM</td>\n",
       "    </tr>\n",
       "  </tbody>\n",
       "</table>\n",
       "</div>"
      ],
      "text/plain": [
       "   Origin Movement ID                                Origin Display Name  \\\n",
       "0                 123  600 Independence Avenue Southeast, Southeast W...   \n",
       "\n",
       "                                     Origin Geometry  Destination Movement ID  \\\n",
       "0  [[-77.003515,38.889705],[-77.003515,38.889808]...                        1   \n",
       "\n",
       "                            Destination Display Name  \\\n",
       "0  5400 Arnold Avenue Southwest, Southwest Washin...   \n",
       "\n",
       "                                Destination Geometry  \\\n",
       "0  [[-77.048009,38.841266],[-77.047969,38.841267]...   \n",
       "\n",
       "                                          Date Range  \\\n",
       "0  01/01/2016 - 03/31/2016, Sundays, 12:00AM-02:00AM   \n",
       "\n",
       "   Mean Travel Time (Seconds)  Range - Lower Bound Travel Time (Seconds)  \\\n",
       "0                         504                                        415   \n",
       "\n",
       "   Range - Upper Bound Travel Time (Seconds)  latitudes longtitudes  \\\n",
       "0                                        612  38.841267  -77.047969   \n",
       "\n",
       "                    Months  Weekdays             Times  \n",
       "0  01/01/2016 - 03/31/2016   Sundays   12:00AM-02:00AM  "
      ]
     },
     "execution_count": 13,
     "metadata": {},
     "output_type": "execute_result"
    }
   ],
   "source": [
    "data[:1]"
   ]
  }
 ],
 "metadata": {
  "anaconda-cloud": {},
  "kernelspec": {
   "display_name": "Python [conda root]",
   "language": "python",
   "name": "conda-root-py"
  },
  "language_info": {
   "codemirror_mode": {
    "name": "ipython",
    "version": 3
   },
   "file_extension": ".py",
   "mimetype": "text/x-python",
   "name": "python",
   "nbconvert_exporter": "python",
   "pygments_lexer": "ipython3",
   "version": "3.5.2"
  }
 },
 "nbformat": 4,
 "nbformat_minor": 1
}
