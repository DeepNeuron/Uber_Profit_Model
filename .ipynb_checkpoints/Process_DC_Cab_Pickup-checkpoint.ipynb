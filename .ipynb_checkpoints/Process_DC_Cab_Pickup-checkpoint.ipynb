{
 "cells": [
  {
   "cell_type": "code",
   "execution_count": 1,
   "metadata": {
    "collapsed": true
   },
   "outputs": [],
   "source": [
    "import numpy as np\n",
    "import cv2\n",
    "import matplotlib.pyplot as plt\n",
    "import matplotlib.image as mpimg\n",
    "%matplotlib inline\n",
    "import glob\n",
    "import csv\n",
    "import pandas as pd\n",
    "import re"
   ]
  },
  {
   "cell_type": "code",
   "execution_count": 128,
   "metadata": {
    "collapsed": true
   },
   "outputs": [],
   "source": [
    "def measure_geo_distance(pt1_longitude,pt1_latitude,pt2_longtide,pt2_latitude):\n",
    "    \"\"\"\n",
    "    This function compute the geo_distance between two points using Euclidean distance\n",
    "    \"\"\"\n",
    "    distance = ((pt1_longitude-pt2_longtide)**2+(pt1_latitude-pt2_latitude)**2)**0.5\n",
    "    return distance\n",
    "\n",
    "def filter_by_origin(data_pickup,data_regions):\n",
    "    \"\"\"\n",
    "    This function filter out the trips that are not originated from any of our selected region, and add a region tag\n",
    "    data_pickup\n",
    "    data_region\n",
    "    \"\"\"\n",
    "    # Create a copy\n",
    "    data_pickup_filtered = data_pickup.copy()\n",
    "\n",
    "    # Initialize the list to record which region the origin is located\n",
    "    in_which_region_list = []\n",
    "\n",
    "    # Loop through each row\n",
    "    for i in range(0, len(data_pickup)):\n",
    "        pickup_latitude = data_pickup['Pickup_Block_Latitude'][i]\n",
    "        pickup_longitude = data_pickup['Pickup_Block_Longitude'][i]\n",
    "        in_which_region = -1 # Initialize with -1\n",
    "        for j in range(0,len(data_regions)):\n",
    "            distance = measure_geo_distance(pickup_longitude,pickup_latitude,data_regions['Longitude'][j],data_regions['Latitude'][j])\n",
    "            if distance <= data_regions['Radius'][j]:\n",
    "                in_which_region = j\n",
    "        in_which_region_list.append(in_which_region)\n",
    "    data_pickup_filtered['Region'] = in_which_region_list\n",
    "    # Keep only those have real region indice\n",
    "    data_pickup_filtered = data_pickup_filtered[data_pickup_filtered.Region != -1] \n",
    "    # Reset the indice\n",
    "    data_pickup_filtered = data_pickup_filtered.dropna(how='any').reset_index(drop=True)\n",
    "    return data_pickup_filtered"
   ]
  },
  {
   "cell_type": "code",
   "execution_count": 26,
   "metadata": {
    "collapsed": false
   },
   "outputs": [],
   "source": [
    "# Read the Dataset\n",
    "Data_Jan_Pickup=pd.read_csv('DC_Cab_Pickup/Jan_DC_Data.csv',sep = '\\t')\n",
    "#Data_Feb_Pickup=pd.read_csv('DC_Cab_Pickup/Feb_DC_Data.csv',sep = '\\t')\n",
    "#Data_Mar_Pickup=pd.read_csv('DC_Cab_Pickup/Mar_DC_Data.csv',sep = '\\t')\n",
    "\n",
    "# Read the Region Data Set\n",
    "data_regions=pd.read_csv('DC_Cab_Pickup/CoordinateWrenches.csv')"
   ]
  },
  {
   "cell_type": "code",
   "execution_count": 129,
   "metadata": {
    "collapsed": true
   },
   "outputs": [],
   "source": [
    "data_pickup_copy = Data_Jan_Pickup[:1000]"
   ]
  },
  {
   "cell_type": "code",
   "execution_count": 130,
   "metadata": {
    "collapsed": false
   },
   "outputs": [],
   "source": [
    "# Select the distance threshold - maximum distance of a trip\n",
    "trip_distance_max = min(data_regions['Radius'])"
   ]
  },
  {
   "cell_type": "code",
   "execution_count": 45,
   "metadata": {
    "collapsed": false
   },
   "outputs": [
    {
     "data": {
      "text/html": [
       "<div>\n",
       "<table border=\"1\" class=\"dataframe\">\n",
       "  <thead>\n",
       "    <tr style=\"text-align: right;\">\n",
       "      <th></th>\n",
       "      <th>Latitude</th>\n",
       "      <th>Longitude</th>\n",
       "      <th>Radius</th>\n",
       "    </tr>\n",
       "  </thead>\n",
       "  <tbody>\n",
       "    <tr>\n",
       "      <th>0</th>\n",
       "      <td>38.903646</td>\n",
       "      <td>-77.052080</td>\n",
       "      <td>0.015497</td>\n",
       "    </tr>\n",
       "    <tr>\n",
       "      <th>1</th>\n",
       "      <td>38.897879</td>\n",
       "      <td>-77.026263</td>\n",
       "      <td>0.012657</td>\n",
       "    </tr>\n",
       "    <tr>\n",
       "      <th>2</th>\n",
       "      <td>38.905107</td>\n",
       "      <td>-77.036653</td>\n",
       "      <td>0.012657</td>\n",
       "    </tr>\n",
       "    <tr>\n",
       "      <th>3</th>\n",
       "      <td>38.893360</td>\n",
       "      <td>-77.008867</td>\n",
       "      <td>0.017973</td>\n",
       "    </tr>\n",
       "    <tr>\n",
       "      <th>4</th>\n",
       "      <td>38.921966</td>\n",
       "      <td>-77.047168</td>\n",
       "      <td>0.018967</td>\n",
       "    </tr>\n",
       "  </tbody>\n",
       "</table>\n",
       "</div>"
      ],
      "text/plain": [
       "    Latitude  Longitude    Radius\n",
       "0  38.903646 -77.052080  0.015497\n",
       "1  38.897879 -77.026263  0.012657\n",
       "2  38.905107 -77.036653  0.012657\n",
       "3  38.893360 -77.008867  0.017973\n",
       "4  38.921966 -77.047168  0.018967"
      ]
     },
     "execution_count": 45,
     "metadata": {},
     "output_type": "execute_result"
    }
   ],
   "source": [
    "data_regions"
   ]
  },
  {
   "cell_type": "code",
   "execution_count": 131,
   "metadata": {
    "collapsed": false
   },
   "outputs": [],
   "source": [
    "data_pickup_filtered = filter_by_origin(data_pickup_copy,data_regions)"
   ]
  },
  {
   "cell_type": "code",
   "execution_count": 132,
   "metadata": {
    "collapsed": false
   },
   "outputs": [
    {
     "data": {
      "text/plain": [
       "892"
      ]
     },
     "execution_count": 132,
     "metadata": {},
     "output_type": "execute_result"
    }
   ],
   "source": [
    "len(data_pickup_filtered)"
   ]
  },
  {
   "cell_type": "code",
   "execution_count": 137,
   "metadata": {
    "collapsed": false,
    "scrolled": true
   },
   "outputs": [],
   "source": [
    "def filter_by_dest(data_pickup,data_regions,max_radius_multiple = 1.25)\n",
    "    \"\"\"\n",
    "    This function filter out the trips that the destination is out of their corresponding regions by 1.25 of the radius\n",
    "    data_pickup: pickup dataset\n",
    "    data_regions: dataset that record our regions\n",
    "    \"\"\"\n",
    "    # Create a copy\n",
    "    data_pickup_dest_filter = data_pickup.copy()\n",
    "    # Initialize the list to record whether the destination is within the same region\n",
    "    in_region_list =  [] \n",
    "\n",
    "    for i in range(0,len(data_pickup_dest_filter)):\n",
    "        in_region = 0 # Initialize with negative\n",
    "        region_id = data_pickup_dest_filter['Region'][i]\n",
    "        distance = measure_geo_distance(data_pickup_dest_filter['Pickup_Block_Longitude'][i],data_pickup_dest_filter['Pickup_Block_Latitude'][i],data_regions['Longitude'][region_id],data_regions['Latitude'][region_id])\n",
    "        if distance <= data_regions['Radius'][region_id]*max_radius_multiple:\n",
    "            in_region = 1\n",
    "        in_region_list.append(in_region)\n",
    "    \n",
    "    # Remove trips that are out of the region\n",
    "    data_pickup_dest_filter = \n",
    "    data_pickup_dest_filter = data_pickup_dest_filter[in_region_list = 1] \n",
    "    # Reset the indice\n",
    "    data_pickup_filtered = data_pickup_filtered.dropna(how='any').reset_index(drop=True)\n",
    "\n",
    "    return "
   ]
  },
  {
   "cell_type": "code",
   "execution_count": 136,
   "metadata": {
    "collapsed": false
   },
   "outputs": [
    {
     "data": {
      "text/plain": [
       "1.0"
      ]
     },
     "execution_count": 136,
     "metadata": {},
     "output_type": "execute_result"
    }
   ],
   "source": [
    "sum(in_region_list)/len(in_region_list)"
   ]
  },
  {
   "cell_type": "code",
   "execution_count": null,
   "metadata": {
    "collapsed": true
   },
   "outputs": [],
   "source": []
  }
 ],
 "metadata": {
  "anaconda-cloud": {},
  "kernelspec": {
   "display_name": "Python [conda root]",
   "language": "python",
   "name": "conda-root-py"
  },
  "language_info": {
   "codemirror_mode": {
    "name": "ipython",
    "version": 3
   },
   "file_extension": ".py",
   "mimetype": "text/x-python",
   "name": "python",
   "nbconvert_exporter": "python",
   "pygments_lexer": "ipython3",
   "version": "3.5.2"
  }
 },
 "nbformat": 4,
 "nbformat_minor": 1
}
