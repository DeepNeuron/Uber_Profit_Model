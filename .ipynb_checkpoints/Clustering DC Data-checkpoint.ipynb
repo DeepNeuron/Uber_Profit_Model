{
 "cells": [
  {
   "cell_type": "code",
   "execution_count": null,
   "metadata": {
    "collapsed": true
   },
   "outputs": [],
   "source": [
    "import numpy as np\n",
    "\n",
    "from sklearn.cluster import DBSCAN\n",
    "from sklearn import metrics\n",
    "from sklearn.datasets.samples_generator import make_blobs\n",
    "from sklearn.preprocessing import StandardScaler\n",
    "\n",
    "import csv \n",
    "from os import listdir\n",
    "from os.path import isfile, join\n",
    "import matplotlib.pyplot as plt\n",
    "import re\n",
    "import glob\n",
    "import pandas as pd"
   ]
  },
  {
   "cell_type": "markdown",
   "metadata": {},
   "source": [
    "## Load in data "
   ]
  },
  {
   "cell_type": "code",
   "execution_count": null,
   "metadata": {
    "collapsed": false
   },
   "outputs": [],
   "source": [
    "permfiles = glob.glob(\"DC_Traffic_Data/Permanent*\")\n",
    "shortfiles = glob.glob(\"DC_Traffic_Data/Short*\")\n",
    "trafficfiles = glob.glob(\"DC_Traffic_Data/Hourly*\")\n",
    "fil_dropoff_files = []\n",
    "dropoff_files = []\n",
    "pickup_files = []\n",
    "fil_pickup_files = []\n",
    "\n",
    "\n",
    "#Setup NP arrays\n",
    "fd_row = []\n",
    "df_row = []\n",
    "pf_row = []\n",
    "fp_row = []\n",
    "\n",
    "\n",
    "perm_traffic_data = []\n",
    "short_traffic_data = []\n",
    "hourly_traffic_data = []\n",
    "for filename in permfiles:\n",
    "    perm_traffic_data.append(pd.read_csv(filename))\n",
    "for filename in shortfiles:\n",
    "    short_traffic_data.append(pd.read_csv(filename))\n",
    "for filename in trafficfiles:\n",
    "    hourly_traffic_data.append(pd.read_csv(filename))\n",
    "    \n",
    "permanent_hourly_data = []\n",
    "permanent_hourly_data.append(perm_traffic_data[0].merge(hourly_traffic_data[3], left_on='STATION', right_on='StationID'))\n",
    "print(permanent_hourly_data[0].head())\n"
   ]
  },
  {
   "cell_type": "markdown",
   "metadata": {},
   "source": [
    "## Cluster DC Data"
   ]
  },
  {
   "cell_type": "code",
   "execution_count": null,
   "metadata": {
    "collapsed": false
   },
   "outputs": [],
   "source": [
    "import numpy as np\n",
    "from scipy.cluster.vq import kmeans2\n",
    "\n",
    "# generate clouds of 2D normally distributed points\n",
    "N = 6000000 # number of points in each cluster\n",
    "\n",
    "# cloud 1: mean (0, 0)\n",
    "mean1 = [0, 0]\n",
    "cov1  = [[1, 0], [0, 1]]\n",
    "x1,y1 = np.random.multivariate_normal(mean1, cov1, N).T\n",
    "\n",
    "# cloud 2: mean (5, 5)\n",
    "mean2 = [5, 5]\n",
    "cov2  = [[1, 0], [0, 1]]\n",
    "x2,y2 = np.random.multivariate_normal(mean2, cov2, N).T\n",
    "\n",
    "# merge the clouds and arrange into data points\n",
    "xs, ys = np.concatenate( (x1, x2) ), np.concatenate( (y1, y2) )\n",
    "points = np.array([xs, ys]).T\n",
    "\n",
    "# cluster the points using k-means\n",
    "centroids, clusters = kmeans2(points, k=2)\n",
    "print(centroids)"
   ]
  },
  {
   "cell_type": "code",
   "execution_count": 5,
   "metadata": {
    "collapsed": false
   },
   "outputs": [
    {
     "data": {
      "text/plain": [
       "<matplotlib.collections.PathCollection at 0x10b472d30>"
      ]
     },
     "execution_count": 5,
     "metadata": {},
     "output_type": "execute_result"
    }
   ],
   "source": [
    "import numpy as np\n",
    "import matplotlib.pyplot as plt\n",
    "from scipy.cluster.vq import kmeans2, whiten\n",
    "\n",
    "arr = np.random.randn(500000*3).reshape((500000, 3))\n",
    "x, y = kmeans2(whiten(arr), 7, iter = 20)  #<--- I randomly picked 7 clusters\n",
    "plt.scatter(arr[:,0], arr[:,1], c=y, alpha=0.33333)\n",
    "plt.show()"
   ]
  },
  {
   "cell_type": "code",
   "execution_count": null,
   "metadata": {
    "collapsed": true
   },
   "outputs": [],
   "source": []
  }
 ],
 "metadata": {
  "kernelspec": {
   "display_name": "Python 3",
   "language": "python",
   "name": "python3"
  },
  "language_info": {
   "codemirror_mode": {
    "name": "ipython",
    "version": 3
   },
   "file_extension": ".py",
   "mimetype": "text/x-python",
   "name": "python",
   "nbconvert_exporter": "python",
   "pygments_lexer": "ipython3",
   "version": "3.5.0"
  }
 },
 "nbformat": 4,
 "nbformat_minor": 0
}
