{
 "cells": [
  {
   "cell_type": "code",
   "execution_count": 1,
   "metadata": {
    "collapsed": false
   },
   "outputs": [
    {
     "name": "stderr",
     "output_type": "stream",
     "text": [
      "/Users/ivanzhou/General_Software/anaconda/lib/python3.5/site-packages/matplotlib/font_manager.py:273: UserWarning: Matplotlib is building the font cache using fc-list. This may take a moment.\n",
      "  warnings.warn('Matplotlib is building the font cache using fc-list. This may take a moment.')\n",
      "/Users/ivanzhou/General_Software/anaconda/lib/python3.5/site-packages/matplotlib/font_manager.py:273: UserWarning: Matplotlib is building the font cache using fc-list. This may take a moment.\n",
      "  warnings.warn('Matplotlib is building the font cache using fc-list. This may take a moment.')\n"
     ]
    }
   ],
   "source": [
    "import numpy as np\n",
    "import cv2\n",
    "import matplotlib.pyplot as plt\n",
    "import matplotlib.image as mpimg\n",
    "%matplotlib inline\n",
    "import glob\n",
    "import csv\n",
    "import pandas as pd"
   ]
  },
  {
   "cell_type": "code",
   "execution_count": 10,
   "metadata": {
    "collapsed": false
   },
   "outputs": [],
   "source": [
    "chunksize = 10 ** 6    \n",
    "data_file_path = \"DC_Cab_Pickup/taxi_201505.txt\"\n",
    "data = pd.read_csv(data_file_path,chunksize = chunksize)\n"
   ]
  },
  {
   "cell_type": "code",
   "execution_count": 12,
   "metadata": {
    "collapsed": true
   },
   "outputs": [],
   "source": [
    "tp = pd.read_csv(data_file_path, sep='|', iterator=True, chunksize=1000)\n",
    "#print tp\n",
    "#<pandas.io.parsers.TextFileReader object at 0x00000000150E0048>\n",
    "df = pd.concat(tp, ignore_index=True)"
   ]
  },
  {
   "cell_type": "code",
   "execution_count": 11,
   "metadata": {
    "collapsed": false
   },
   "outputs": [
    {
     "data": {
      "text/plain": [
       "<pandas.io.parsers.TextFileReader at 0x106ceb198>"
      ]
     },
     "execution_count": 11,
     "metadata": {},
     "output_type": "execute_result"
    }
   ],
   "source": [
    "data"
   ]
  },
  {
   "cell_type": "code",
   "execution_count": 5,
   "metadata": {
    "collapsed": false
   },
   "outputs": [
    {
     "ename": "AttributeError",
     "evalue": "'TextFileReader' object has no attribute 'shape'",
     "output_type": "error",
     "traceback": [
      "\u001b[0;31m---------------------------------------------------------------------------\u001b[0m",
      "\u001b[0;31mAttributeError\u001b[0m                            Traceback (most recent call last)",
      "\u001b[0;32m<ipython-input-5-4d6baf1a67bf>\u001b[0m in \u001b[0;36m<module>\u001b[0;34m()\u001b[0m\n\u001b[0;32m----> 1\u001b[0;31m \u001b[0mdata\u001b[0m\u001b[0;34m.\u001b[0m\u001b[0mshape\u001b[0m\u001b[0;34m\u001b[0m\u001b[0m\n\u001b[0m",
      "\u001b[0;31mAttributeError\u001b[0m: 'TextFileReader' object has no attribute 'shape'"
     ]
    }
   ],
   "source": [
    "data.shape"
   ]
  },
  {
   "cell_type": "code",
   "execution_count": 13,
   "metadata": {
    "collapsed": false
   },
   "outputs": [
    {
     "data": {
      "text/html": [
       "<div>\n",
       "<table border=\"1\" class=\"dataframe\">\n",
       "  <thead>\n",
       "    <tr style=\"text-align: right;\">\n",
       "      <th></th>\n",
       "      <th>OBJECTID|                                 TRIPTYPE|                                                                                                                                                                                                                                                        PROVIDER|                                                                                                                                                                                                                                                        METERFARE|                                                                                                                                                                                                                                                       TIP|                                                                                                                                                                                                                                                             SURCHARGE|                                                                                                                                                                                                                                                       EXTRAS|                                                                                                                                                                                                                                                          TOLLS|                                                                                                                                                                                                                                                           TOTALAMOUNT|                                                                                                                                                                                                                                                     PAYMENTTYPE|                                                                                                                                                                                                                                                     PAYMENTCARDPROVIDER|                                                                                                                                                                                                                                             PICKUPCITY|                                                                                                                                                                                                                                                      PICKUPSTATE|                                                                                                                                                                                                                                                     PICKUPZIP|                                                                                                                                                                                                                                                       DROPOFFCITY|                                                                                                                                                                                                                                                     DROPOFFSTATE|                                                                                                                                                                                                                                                    DROPOFFZIP|                                                                                                                                                                                                                                                      TRIPMILEAGE|                                                                                                                                                                                                                                                     TRIPTIME|                                                                                                                                                                                                                                                        PICKUP_BLOCK_LATITUDE|                    PICKUP_BLOCK_LONGITUDE|                   PICKUP_BLOCKNAME|                                                                                                                                                                                                                                                DROPOFF_BLOCK_LATITUDE|                   DROPOFF_BLOCK_LONGITUDE|                  DROPOFF_BLOCKNAME|                                                                                                                                                                                                                                               AIRPORT| PICKUPDATETIME_TR| DROPOFFDATETIME_TR</th>\n",
       "    </tr>\n",
       "  </thead>\n",
       "  <tbody>\n",
       "    <tr>\n",
       "      <th>0</th>\n",
       "      <td>86|                                       PSP|...</td>\n",
       "    </tr>\n",
       "  </tbody>\n",
       "</table>\n",
       "</div>"
      ],
      "text/plain": [
       "  OBJECTID|                                 TRIPTYPE|                                                                                                                                                                                                                                                        PROVIDER|                                                                                                                                                                                                                                                        METERFARE|                                                                                                                                                                                                                                                       TIP|                                                                                                                                                                                                                                                             SURCHARGE|                                                                                                                                                                                                                                                       EXTRAS|                                                                                                                                                                                                                                                          TOLLS|                                                                                                                                                                                                                                                           TOTALAMOUNT|                                                                                                                                                                                                                                                     PAYMENTTYPE|                                                                                                                                                                                                                                                     PAYMENTCARDPROVIDER|                                                                                                                                                                                                                                             PICKUPCITY|                                                                                                                                                                                                                                                      PICKUPSTATE|                                                                                                                                                                                                                                                     PICKUPZIP|                                                                                                                                                                                                                                                       DROPOFFCITY|                                                                                                                                                                                                                                                     DROPOFFSTATE|                                                                                                                                                                                                                                                    DROPOFFZIP|                                                                                                                                                                                                                                                      TRIPMILEAGE|                                                                                                                                                                                                                                                     TRIPTIME|                                                                                                                                                                                                                                                        PICKUP_BLOCK_LATITUDE|                    PICKUP_BLOCK_LONGITUDE|                   PICKUP_BLOCKNAME|                                                                                                                                                                                                                                                DROPOFF_BLOCK_LATITUDE|                   DROPOFF_BLOCK_LONGITUDE|                  DROPOFF_BLOCKNAME|                                                                                                                                                                                                                                               AIRPORT| PICKUPDATETIME_TR| DROPOFFDATETIME_TR\n",
       "0  86|                                       PSP|...                                                                                                                                                                                                                                                                                                                                                                                                                                                                                                                                                                                                                                                                                                                                                                                                                                                                                                                                                                                                                                                                                                                                                                                                                                                                                                                                                                                                                                                                                                                                                                                                                                                                                                                                                                                                                                                                                                                                                                                                                                                                                                                                                                                                                                                                                                                                                                                                                                                                                                                                                                                                                                                                                                                                                                                                                                                                                                                                                                                                                                                                                                                                                                                                                                                                                                                                                                                                                                                                                                                                                                                                                                                                                                                                                                                                                                                                                                                                                                                                                                                                                                                                                                                                                                                                                                                                                                                                                                                                                                                                                                                                                                                                                                                                                                                                                                                                                                                                                                                                                                                                                                                                                                                                                                                                                                                                                                                                                                                                                                                                                                  "
      ]
     },
     "execution_count": 13,
     "metadata": {},
     "output_type": "execute_result"
    }
   ],
   "source": [
    "df[:1]"
   ]
  },
  {
   "cell_type": "code",
   "execution_count": null,
   "metadata": {
    "collapsed": true
   },
   "outputs": [],
   "source": []
  }
 ],
 "metadata": {
  "anaconda-cloud": {},
  "kernelspec": {
   "display_name": "Python [default]",
   "language": "python",
   "name": "python3"
  },
  "language_info": {
   "codemirror_mode": {
    "name": "ipython",
    "version": 3
   },
   "file_extension": ".py",
   "mimetype": "text/x-python",
   "name": "python",
   "nbconvert_exporter": "python",
   "pygments_lexer": "ipython3",
   "version": "3.5.2"
  }
 },
 "nbformat": 4,
 "nbformat_minor": 1
}
