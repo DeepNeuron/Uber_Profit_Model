{
 "cells": [
  {
   "cell_type": "code",
   "execution_count": 2,
   "metadata": {
    "collapsed": true
   },
   "outputs": [],
   "source": [
    "import numpy as np\n",
    "import cv2\n",
    "%matplotlib inline\n",
    "import glob\n",
    "import csv\n",
    "import pandas as pd\n",
    "import re\n",
    "import datetime"
   ]
  },
  {
   "cell_type": "code",
   "execution_count": 27,
   "metadata": {
    "collapsed": false
   },
   "outputs": [],
   "source": [
    "def create_demand_instance():\n",
    "    \"\"\"\n",
    "    This function creates an instance of damand data.\n",
    "    It is used before we get the actual demand data\n",
    "    \"\"\"\n",
    "    n_regions = 5\n",
    "    n_hours = 24\n",
    "    n_weekdays = 7\n",
    "\n",
    "    list_weekdays = []\n",
    "    list_hours = []\n",
    "    list_regions = []\n",
    "    list_traffic = []\n",
    "    for w in range(0,n_weekdays):\n",
    "        for h in range(0,n_hours):\n",
    "            for r in range(0,n_hours):\n",
    "                list_weekdays.append(w+1)\n",
    "                list_hours.append(h)\n",
    "                list_regions.append(r)\n",
    "                list_traffic.append(np.random.randn()*300+4000)\n",
    "    # Create Dataframe\n",
    "    Demand_df = pd.DataFrame(\n",
    "        {\n",
    "         'Weekday':list_weekdays,\n",
    "         'Hour': list_hours,\n",
    "         'Region': list_regions, \n",
    "         'Avg_Traffic': list_traffic,\n",
    "        })\n",
    "    return Demand_df"
   ]
  },
  {
   "cell_type": "code",
   "execution_count": 28,
   "metadata": {
    "collapsed": false
   },
   "outputs": [],
   "source": [
    "# Demand_df = create_demand_instance()\n",
    "# Save Dataframe\n",
    "# Demand_df.to_csv(\"Pickup_Demands_Instance.csv\")"
   ]
  },
  {
   "cell_type": "code",
   "execution_count": null,
   "metadata": {
    "collapsed": true
   },
   "outputs": [],
   "source": []
  }
 ],
 "metadata": {
  "kernelspec": {
   "display_name": "Python [default]",
   "language": "python",
   "name": "python3"
  },
  "language_info": {
   "codemirror_mode": {
    "name": "ipython",
    "version": 3
   },
   "file_extension": ".py",
   "mimetype": "text/x-python",
   "name": "python",
   "nbconvert_exporter": "python",
   "pygments_lexer": "ipython3",
   "version": "3.5.2"
  }
 },
 "nbformat": 4,
 "nbformat_minor": 1
}
