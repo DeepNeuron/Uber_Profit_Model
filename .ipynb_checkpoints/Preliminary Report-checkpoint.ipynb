{
 "cells": [
  {
   "cell_type": "markdown",
   "metadata": {},
   "source": [
    "## Read in files for Exploratory Data Analysis"
   ]
  },
  {
   "cell_type": "code",
   "execution_count": null,
   "metadata": {
    "collapsed": false
   },
   "outputs": [],
   "source": [
    "import csv \n",
    "from os import listdir\n",
    "from os.path import isfile, join\n",
    "import numpy as np\n",
    "import matplotlib.pyplot as plt\n",
    "import re\n",
    "\n",
    "\n",
    "onlyfiles = [f for f in listdir('Data') if isfile(join('Data', f))]\n",
    "fil_dropoff_files = []\n",
    "dropoff_files = []\n",
    "pickup_files = []\n",
    "fil_pickup_files = []\n",
    "\n",
    "#Setup NP arrays\n",
    "fd_row = []\n",
    "df_row = []\n",
    "pf_row = []\n",
    "fp_row = []\n",
    "\n",
    "temp = []\n",
    "\n",
    "for filename in onlyfiles:  \n",
    "    if \"filtered_dropoffs\" in filename:\n",
    "        fil_dropoff_files.append(filename)\n",
    "    if \"Dropped\" in filename:\n",
    "        dropoff_files.append(filename)\n",
    "    if \"filtered_pickups\" in filename:\n",
    "        fil_pickup_files.append(filename)\n",
    "    if \"Picked\" in filename:\n",
    "        pickup_files.append(filename)\n",
    "        \n",
    "#Populate NumPy Arrays here\n",
    "print(fil_dropoff_files)\n",
    "for line in fil_dropoff_files:\n",
    "    with open('Data/' + line, newline='') as csvfile:\n",
    "        spamreader = csv.reader(csvfile, delimiter=' ', quotechar='|')\n",
    "        for row in spamreader:\n",
    "            \n",
    "            fd_row.append(row)\n",
    "for line in dropoff_files:\n",
    "    with open('Data/' + line, newline='') as csvfile:\n",
    "        spamreader = csv.reader(csvfile, delimiter=' ', quotechar='|')\n",
    "        for row in spamreader:\n",
    "            df_row.append(row)\n",
    "\n",
    "for line in pickup_files:\n",
    "    with open('Data/' + line, newline='') as csvfile:\n",
    "        spamreader = csv.reader(csvfile, delimiter=' ', quotechar='|')\n",
    "        for row in spamreader:\n",
    "            pf_row.append(row)\n",
    "\n",
    "for line in fil_pickup_files:\n",
    "    with open('Data/' + line, newline='') as csvfile:\n",
    "        spamreader = csv.reader(csvfile, delimiter=' ', quotechar='|')\n",
    "        for row in spamreader:\n",
    "            fp_row.append(row)\n",
    "print(fd_row[1])\n",
    "\n",
    "      \n",
    "       \n",
    "\n",
    "   \n"
   ]
  },
  {
   "cell_type": "code",
   "execution_count": null,
   "metadata": {
    "collapsed": true
   },
   "outputs": [],
   "source": []
  }
 ],
 "metadata": {
  "kernelspec": {
   "display_name": "Python 3",
   "language": "python",
   "name": "python3"
  },
  "language_info": {
   "codemirror_mode": {
    "name": "ipython",
    "version": 3
   },
   "file_extension": ".py",
   "mimetype": "text/x-python",
   "name": "python",
   "nbconvert_exporter": "python",
   "pygments_lexer": "ipython3",
   "version": "3.5.0"
  }
 },
 "nbformat": 4,
 "nbformat_minor": 0
}
