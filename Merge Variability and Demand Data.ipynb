{
 "cells": [
  {
   "cell_type": "code",
   "execution_count": 2,
   "metadata": {
    "collapsed": true
   },
   "outputs": [],
   "source": [
    "import numpy as np\n",
    "import cv2\n",
    "%matplotlib inline\n",
    "import glob\n",
    "import csv\n",
    "import pandas as pd\n",
    "import re\n",
    "import datetime"
   ]
  },
  {
   "cell_type": "code",
   "execution_count": null,
   "metadata": {
    "collapsed": true
   },
   "outputs": [],
   "source": [
    "def match_region_with_centroid(data_var,data_regions):\n",
    "    \"\"\"\n",
    "    This function matches the centroid/region in two dataset by comparing the Longitude & Latitude\n",
    "    \"\"\"\n",
    "    df = data_var.copy()\n",
    "    regions_list = []\n",
    "    for i in range(0,len(data_var)):\n",
    "        region_matched = -1\n",
    "        for j in range(0,len(data_regions)):\n",
    "            if (data_var['Centroid_Latitude'][i] == data_regions['Latitude'][j] and data_var['Centroid_Longitude'][i] == data_regions['Longitude'][j]):\n",
    "                region_matched = j\n",
    "        if region_matched == -1:\n",
    "            print(\"Longitude/Latitude of the row \" +str(i+1)+ \" in data_var is wrong!\")\n",
    "            #return\n",
    "        regions_list.append(region_matched)\n",
    "    # Remove the incorrect region name column in Var_df\n",
    "    df=df.drop(['Region_Name'],1)\n",
    "    # Add a new column with the correct region name\n",
    "    df[\"Region\"] = regions_list \n",
    "    \n",
    "    return df"
   ]
  },
  {
   "cell_type": "code",
   "execution_count": 27,
   "metadata": {
    "collapsed": false
   },
   "outputs": [],
   "source": [
    "def create_demand_instance():\n",
    "    \"\"\"\n",
    "    This function creates an instance of damand data.\n",
    "    It is used before we get the actual demand data\n",
    "    \"\"\"\n",
    "    n_regions = 5\n",
    "    n_hours = 24\n",
    "    n_weekdays = 7\n",
    "\n",
    "    list_weekdays = []\n",
    "    list_hours = []\n",
    "    list_regions = []\n",
    "    list_traffic = []\n",
    "    for w in range(0,n_weekdays):\n",
    "        for h in range(0,n_hours):\n",
    "            for r in range(0,n_hours):\n",
    "                list_weekdays.append(w+1)\n",
    "                list_hours.append(h)\n",
    "                list_regions.append(r)\n",
    "                list_traffic.append(np.random.randn()*300+4000)\n",
    "    # Create Dataframe\n",
    "    Demand_df = pd.DataFrame(\n",
    "        {\n",
    "         'Weekday':list_weekdays,\n",
    "         'Hour': list_hours,\n",
    "         'Region': list_regions, \n",
    "         'Avg_Traffic': list_traffic,\n",
    "        })\n",
    "    return Demand_df\n",
    "# Demand_df = create_demand_instance()\n",
    "# Save Dataframe\n",
    "# Demand_df.to_csv(\"Pickup_Demands_Instance.csv\")"
   ]
  },
  {
   "cell_type": "code",
   "execution_count": 64,
   "metadata": {
    "collapsed": false
   },
   "outputs": [],
   "source": [
    "# Read two dataset\n",
    "data_demand = pd.read_csv('Pickup_Demands_Instance.csv')\n",
    "data_var = pd.read_csv('DC_Uber_Variability_Data.csv')\n",
    "\n",
    "# Read the Region Data Set\n",
    "data_regions=pd.read_csv('DC_Cab_Pickup/CoordinateWrenches.csv')"
   ]
  },
  {
   "cell_type": "code",
   "execution_count": 65,
   "metadata": {
    "collapsed": false
   },
   "outputs": [
    {
     "data": {
      "text/html": [
       "<div>\n",
       "<table border=\"1\" class=\"dataframe\">\n",
       "  <thead>\n",
       "    <tr style=\"text-align: right;\">\n",
       "      <th></th>\n",
       "      <th>Unnamed: 0</th>\n",
       "      <th>Avg_Traffic</th>\n",
       "      <th>Hour</th>\n",
       "      <th>Region</th>\n",
       "      <th>Weekday</th>\n",
       "    </tr>\n",
       "  </thead>\n",
       "  <tbody>\n",
       "    <tr>\n",
       "      <th>0</th>\n",
       "      <td>0</td>\n",
       "      <td>4363.774321</td>\n",
       "      <td>0</td>\n",
       "      <td>0</td>\n",
       "      <td>1</td>\n",
       "    </tr>\n",
       "    <tr>\n",
       "      <th>1</th>\n",
       "      <td>1</td>\n",
       "      <td>4041.983829</td>\n",
       "      <td>0</td>\n",
       "      <td>1</td>\n",
       "      <td>1</td>\n",
       "    </tr>\n",
       "    <tr>\n",
       "      <th>2</th>\n",
       "      <td>2</td>\n",
       "      <td>3982.742752</td>\n",
       "      <td>0</td>\n",
       "      <td>2</td>\n",
       "      <td>1</td>\n",
       "    </tr>\n",
       "  </tbody>\n",
       "</table>\n",
       "</div>"
      ],
      "text/plain": [
       "   Unnamed: 0  Avg_Traffic  Hour  Region  Weekday\n",
       "0           0  4363.774321     0       0        1\n",
       "1           1  4041.983829     0       1        1\n",
       "2           2  3982.742752     0       2        1"
      ]
     },
     "execution_count": 65,
     "metadata": {},
     "output_type": "execute_result"
    }
   ],
   "source": [
    "data_demand[:3]"
   ]
  },
  {
   "cell_type": "code",
   "execution_count": 66,
   "metadata": {
    "collapsed": false
   },
   "outputs": [
    {
     "data": {
      "text/html": [
       "<div>\n",
       "<table border=\"1\" class=\"dataframe\">\n",
       "  <thead>\n",
       "    <tr style=\"text-align: right;\">\n",
       "      <th></th>\n",
       "      <th>Average Variability</th>\n",
       "      <th>Centroid_Latitude</th>\n",
       "      <th>Centroid_Longitude</th>\n",
       "      <th>Number_Destination_Zones_in_Region</th>\n",
       "      <th>Region_Name</th>\n",
       "      <th>Time</th>\n",
       "      <th>Weekday</th>\n",
       "    </tr>\n",
       "  </thead>\n",
       "  <tbody>\n",
       "    <tr>\n",
       "      <th>0</th>\n",
       "      <td>1.755167</td>\n",
       "      <td>38.89336</td>\n",
       "      <td>-77.008867</td>\n",
       "      <td>7</td>\n",
       "      <td>R1</td>\n",
       "      <td>12:00AM-02:00AM</td>\n",
       "      <td>Fridays</td>\n",
       "    </tr>\n",
       "    <tr>\n",
       "      <th>1</th>\n",
       "      <td>2.233562</td>\n",
       "      <td>38.89336</td>\n",
       "      <td>-77.008867</td>\n",
       "      <td>7</td>\n",
       "      <td>R1</td>\n",
       "      <td>04:00PM-06:00PM</td>\n",
       "      <td>Fridays</td>\n",
       "    </tr>\n",
       "    <tr>\n",
       "      <th>2</th>\n",
       "      <td>1.982204</td>\n",
       "      <td>38.89336</td>\n",
       "      <td>-77.008867</td>\n",
       "      <td>7</td>\n",
       "      <td>R1</td>\n",
       "      <td>06:00PM-08:00PM</td>\n",
       "      <td>Fridays</td>\n",
       "    </tr>\n",
       "  </tbody>\n",
       "</table>\n",
       "</div>"
      ],
      "text/plain": [
       "   Average Variability  Centroid_Latitude  Centroid_Longitude  \\\n",
       "0             1.755167           38.89336          -77.008867   \n",
       "1             2.233562           38.89336          -77.008867   \n",
       "2             1.982204           38.89336          -77.008867   \n",
       "\n",
       "   Number_Destination_Zones_in_Region Region_Name             Time  Weekday  \n",
       "0                                   7          R1  12:00AM-02:00AM  Fridays  \n",
       "1                                   7          R1  04:00PM-06:00PM  Fridays  \n",
       "2                                   7          R1  06:00PM-08:00PM  Fridays  "
      ]
     },
     "execution_count": 66,
     "metadata": {},
     "output_type": "execute_result"
    }
   ],
   "source": [
    "data_var[:3]"
   ]
  },
  {
   "cell_type": "code",
   "execution_count": 67,
   "metadata": {
    "collapsed": false
   },
   "outputs": [
    {
     "data": {
      "text/html": [
       "<div>\n",
       "<table border=\"1\" class=\"dataframe\">\n",
       "  <thead>\n",
       "    <tr style=\"text-align: right;\">\n",
       "      <th></th>\n",
       "      <th>Latitude</th>\n",
       "      <th>Longitude</th>\n",
       "      <th>Radius</th>\n",
       "    </tr>\n",
       "  </thead>\n",
       "  <tbody>\n",
       "    <tr>\n",
       "      <th>0</th>\n",
       "      <td>38.903646</td>\n",
       "      <td>-77.052080</td>\n",
       "      <td>0.015497</td>\n",
       "    </tr>\n",
       "    <tr>\n",
       "      <th>1</th>\n",
       "      <td>38.897879</td>\n",
       "      <td>-77.026263</td>\n",
       "      <td>0.012657</td>\n",
       "    </tr>\n",
       "    <tr>\n",
       "      <th>2</th>\n",
       "      <td>38.905107</td>\n",
       "      <td>-77.036653</td>\n",
       "      <td>0.012657</td>\n",
       "    </tr>\n",
       "    <tr>\n",
       "      <th>3</th>\n",
       "      <td>38.893360</td>\n",
       "      <td>-77.008867</td>\n",
       "      <td>0.017973</td>\n",
       "    </tr>\n",
       "    <tr>\n",
       "      <th>4</th>\n",
       "      <td>38.921966</td>\n",
       "      <td>-77.047168</td>\n",
       "      <td>0.018967</td>\n",
       "    </tr>\n",
       "  </tbody>\n",
       "</table>\n",
       "</div>"
      ],
      "text/plain": [
       "    Latitude  Longitude    Radius\n",
       "0  38.903646 -77.052080  0.015497\n",
       "1  38.897879 -77.026263  0.012657\n",
       "2  38.905107 -77.036653  0.012657\n",
       "3  38.893360 -77.008867  0.017973\n",
       "4  38.921966 -77.047168  0.018967"
      ]
     },
     "execution_count": 67,
     "metadata": {},
     "output_type": "execute_result"
    }
   ],
   "source": [
    "data_regions"
   ]
  },
  {
   "cell_type": "code",
   "execution_count": 75,
   "metadata": {
    "collapsed": false
   },
   "outputs": [],
   "source": [
    "# Match Region with Centroid through Longitude and Latitude\n",
    "data_var_new = match_region_with_centroid(data_var,data_regions)"
   ]
  },
  {
   "cell_type": "code",
   "execution_count": null,
   "metadata": {
    "collapsed": true
   },
   "outputs": [],
   "source": [
    "\"\"\"\n",
    "This function converts the hour in data_demand and delete the rows that are out of the selected \n",
    "\"\"\"\n",
    "\n",
    "\"\"\"\n",
    "This function converts the timeslot in data_region\n",
    "\"\"\""
   ]
  },
  {
   "cell_type": "code",
   "execution_count": 76,
   "metadata": {
    "collapsed": false
   },
   "outputs": [
    {
     "data": {
      "text/plain": [
       "array(['12:00AM-02:00AM', '04:00PM-06:00PM', '06:00PM-08:00PM',\n",
       "       '08:00PM-10:00PM', '10:00PM-12:00AM', '07:00AM-09:00AM'], dtype=object)"
      ]
     },
     "execution_count": 76,
     "metadata": {},
     "output_type": "execute_result"
    }
   ],
   "source": [
    "data_var['Time'].unique()"
   ]
  },
  {
   "cell_type": "code",
   "execution_count": 86,
   "metadata": {
    "collapsed": false
   },
   "outputs": [],
   "source": [
    "n_Time = 6\n",
    "Time_Ind = np.arange(n_Time)\n",
    "Time_Name = ['12:00AM-02:00AM','07:00AM-09:00AM', '04:00PM-06:00PM', '06:00PM-08:00PM','08:00PM-10:00PM', '10:00PM-12:00AM']\n",
    "Time_From = [0,7,16,18,20,22]\n",
    "Time_To = [2,9,18,20,22,24]"
   ]
  },
  {
   "cell_type": "code",
   "execution_count": 87,
   "metadata": {
    "collapsed": true
   },
   "outputs": [],
   "source": [
    "# Create a Time_dataframe\n",
    "Time_df = pd.DataFrame({'Time_Index':Time_Ind,\n",
    "                       'Time_Nmae': Time_Name,\n",
    "                       'Time_From': Time_From,\n",
    "                       'Time_To': Time_To})"
   ]
  },
  {
   "cell_type": "code",
   "execution_count": 88,
   "metadata": {
    "collapsed": false
   },
   "outputs": [
    {
     "data": {
      "text/html": [
       "<div>\n",
       "<table border=\"1\" class=\"dataframe\">\n",
       "  <thead>\n",
       "    <tr style=\"text-align: right;\">\n",
       "      <th></th>\n",
       "      <th>Time_From</th>\n",
       "      <th>Time_Index</th>\n",
       "      <th>Time_Nmae</th>\n",
       "      <th>Time_To</th>\n",
       "    </tr>\n",
       "  </thead>\n",
       "  <tbody>\n",
       "    <tr>\n",
       "      <th>0</th>\n",
       "      <td>0</td>\n",
       "      <td>0</td>\n",
       "      <td>12:00AM-02:00AM</td>\n",
       "      <td>2</td>\n",
       "    </tr>\n",
       "    <tr>\n",
       "      <th>1</th>\n",
       "      <td>7</td>\n",
       "      <td>1</td>\n",
       "      <td>07:00AM-09:00AM</td>\n",
       "      <td>9</td>\n",
       "    </tr>\n",
       "    <tr>\n",
       "      <th>2</th>\n",
       "      <td>16</td>\n",
       "      <td>2</td>\n",
       "      <td>04:00PM-06:00PM</td>\n",
       "      <td>18</td>\n",
       "    </tr>\n",
       "    <tr>\n",
       "      <th>3</th>\n",
       "      <td>18</td>\n",
       "      <td>3</td>\n",
       "      <td>06:00PM-08:00PM</td>\n",
       "      <td>20</td>\n",
       "    </tr>\n",
       "    <tr>\n",
       "      <th>4</th>\n",
       "      <td>20</td>\n",
       "      <td>4</td>\n",
       "      <td>08:00PM-10:00PM</td>\n",
       "      <td>22</td>\n",
       "    </tr>\n",
       "    <tr>\n",
       "      <th>5</th>\n",
       "      <td>22</td>\n",
       "      <td>5</td>\n",
       "      <td>10:00PM-12:00AM</td>\n",
       "      <td>24</td>\n",
       "    </tr>\n",
       "  </tbody>\n",
       "</table>\n",
       "</div>"
      ],
      "text/plain": [
       "   Time_From  Time_Index        Time_Nmae  Time_To\n",
       "0          0           0  12:00AM-02:00AM        2\n",
       "1          7           1  07:00AM-09:00AM        9\n",
       "2         16           2  04:00PM-06:00PM       18\n",
       "3         18           3  06:00PM-08:00PM       20\n",
       "4         20           4  08:00PM-10:00PM       22\n",
       "5         22           5  10:00PM-12:00AM       24"
      ]
     },
     "execution_count": 88,
     "metadata": {},
     "output_type": "execute_result"
    }
   ],
   "source": [
    "Time_df"
   ]
  },
  {
   "cell_type": "code",
   "execution_count": null,
   "metadata": {
    "collapsed": true
   },
   "outputs": [],
   "source": []
  }
 ],
 "metadata": {
  "kernelspec": {
   "display_name": "Python [default]",
   "language": "python",
   "name": "python3"
  },
  "language_info": {
   "codemirror_mode": {
    "name": "ipython",
    "version": 3
   },
   "file_extension": ".py",
   "mimetype": "text/x-python",
   "name": "python",
   "nbconvert_exporter": "python",
   "pygments_lexer": "ipython3",
   "version": "3.5.2"
  }
 },
 "nbformat": 4,
 "nbformat_minor": 1
}
